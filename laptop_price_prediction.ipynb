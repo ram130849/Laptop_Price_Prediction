{
  "nbformat": 4,
  "nbformat_minor": 0,
  "metadata": {
    "colab": {
      "provenance": [],
      "authorship_tag": "ABX9TyMazw3dMvnAs95Iym2rrDkQ",
      "include_colab_link": true
    },
    "kernelspec": {
      "name": "python3",
      "display_name": "Python 3"
    },
    "language_info": {
      "name": "python"
    }
  },
  "cells": [
    {
      "cell_type": "markdown",
      "metadata": {
        "id": "view-in-github",
        "colab_type": "text"
      },
      "source": [
        "<a href=\"https://colab.research.google.com/github/ram130849/Laptop_Price_Prediction/blob/main/laptop_price_prediction.ipynb\" target=\"_parent\"><img src=\"https://colab.research.google.com/assets/colab-badge.svg\" alt=\"Open In Colab\"/></a>"
      ]
    },
    {
      "cell_type": "code",
      "source": [
        "!unzip /content/laptop_price_prediction.zip -d /content/laptop_price_prediction"
      ],
      "metadata": {
        "colab": {
          "base_uri": "https://localhost:8080/"
        },
        "id": "p23by7DTUjUb",
        "outputId": "e98c12df-3957-4fba-9089-ae426ab67e73"
      },
      "execution_count": null,
      "outputs": [
        {
          "output_type": "stream",
          "name": "stdout",
          "text": [
            "Archive:  /content/laptop_price_prediction.zip\n",
            "  inflating: /content/laptop_price_prediction/laptops_test.csv  \n",
            "  inflating: /content/laptop_price_prediction/laptops_train.csv  \n"
          ]
        }
      ]
    },
    {
      "cell_type": "code",
      "execution_count": null,
      "metadata": {
        "id": "JyhflC1ylt_g"
      },
      "outputs": [],
      "source": [
        "import numpy as np\n",
        "import pandas as pd\n",
        "import matplotlib.pyplot as plt\n",
        "import seaborn as sns\n",
        "import re\n",
        "from sklearn.preprocessing import LabelEncoder"
      ]
    },
    {
      "cell_type": "code",
      "source": [
        "df_train = pd.read_csv('/content/laptop_price_prediction/laptops_train.csv')\n",
        "df_test = pd.read_csv('/content/laptop_price_prediction/laptops_test.csv')"
      ],
      "metadata": {
        "id": "ukHCPk_xUjd8"
      },
      "execution_count": null,
      "outputs": []
    },
    {
      "cell_type": "code",
      "source": [
        "df_train.head()"
      ],
      "metadata": {
        "colab": {
          "base_uri": "https://localhost:8080/",
          "height": 547
        },
        "id": "zJrjxb6gUjnU",
        "outputId": "2119e8bf-6415-4823-c64c-6b596864cd6b"
      },
      "execution_count": null,
      "outputs": [
        {
          "output_type": "execute_result",
          "data": {
            "text/plain": [
              "  Manufacturer   Model Name   Category Screen Size  \\\n",
              "0        Apple  MacBook Pro  Ultrabook       13.3\"   \n",
              "1        Apple  Macbook Air  Ultrabook       13.3\"   \n",
              "2           HP       250 G6   Notebook       15.6\"   \n",
              "3        Apple  MacBook Pro  Ultrabook       15.4\"   \n",
              "4        Apple  MacBook Pro  Ultrabook       13.3\"   \n",
              "\n",
              "                               Screen                         CPU   RAM  \\\n",
              "0  IPS Panel Retina Display 2560x1600        Intel Core i5 2.3GHz   8GB   \n",
              "1                            1440x900        Intel Core i5 1.8GHz   8GB   \n",
              "2                   Full HD 1920x1080  Intel Core i5 7200U 2.5GHz   8GB   \n",
              "3  IPS Panel Retina Display 2880x1800        Intel Core i7 2.7GHz  16GB   \n",
              "4  IPS Panel Retina Display 2560x1600        Intel Core i5 3.1GHz   8GB   \n",
              "\n",
              "               Storage                           GPU Operating System  \\\n",
              "0            128GB SSD  Intel Iris Plus Graphics 640            macOS   \n",
              "1  128GB Flash Storage        Intel HD Graphics 6000            macOS   \n",
              "2            256GB SSD         Intel HD Graphics 620            No OS   \n",
              "3            512GB SSD            AMD Radeon Pro 455            macOS   \n",
              "4            256GB SSD  Intel Iris Plus Graphics 650            macOS   \n",
              "\n",
              "  Operating System Version  Weight        Price  \n",
              "0                      NaN  1.37kg  11912523.48  \n",
              "1                      NaN  1.34kg   7993374.48  \n",
              "2                      NaN  1.86kg   5112900.00  \n",
              "3                      NaN  1.83kg  22563005.40  \n",
              "4                      NaN  1.37kg  16037611.20  "
            ],
            "text/html": [
              "\n",
              "  <div id=\"df-cb3ecda4-dff0-4cd6-b079-b5b0e96d9494\">\n",
              "    <div class=\"colab-df-container\">\n",
              "      <div>\n",
              "<style scoped>\n",
              "    .dataframe tbody tr th:only-of-type {\n",
              "        vertical-align: middle;\n",
              "    }\n",
              "\n",
              "    .dataframe tbody tr th {\n",
              "        vertical-align: top;\n",
              "    }\n",
              "\n",
              "    .dataframe thead th {\n",
              "        text-align: right;\n",
              "    }\n",
              "</style>\n",
              "<table border=\"1\" class=\"dataframe\">\n",
              "  <thead>\n",
              "    <tr style=\"text-align: right;\">\n",
              "      <th></th>\n",
              "      <th>Manufacturer</th>\n",
              "      <th>Model Name</th>\n",
              "      <th>Category</th>\n",
              "      <th>Screen Size</th>\n",
              "      <th>Screen</th>\n",
              "      <th>CPU</th>\n",
              "      <th>RAM</th>\n",
              "      <th>Storage</th>\n",
              "      <th>GPU</th>\n",
              "      <th>Operating System</th>\n",
              "      <th>Operating System Version</th>\n",
              "      <th>Weight</th>\n",
              "      <th>Price</th>\n",
              "    </tr>\n",
              "  </thead>\n",
              "  <tbody>\n",
              "    <tr>\n",
              "      <th>0</th>\n",
              "      <td>Apple</td>\n",
              "      <td>MacBook Pro</td>\n",
              "      <td>Ultrabook</td>\n",
              "      <td>13.3\"</td>\n",
              "      <td>IPS Panel Retina Display 2560x1600</td>\n",
              "      <td>Intel Core i5 2.3GHz</td>\n",
              "      <td>8GB</td>\n",
              "      <td>128GB SSD</td>\n",
              "      <td>Intel Iris Plus Graphics 640</td>\n",
              "      <td>macOS</td>\n",
              "      <td>NaN</td>\n",
              "      <td>1.37kg</td>\n",
              "      <td>11912523.48</td>\n",
              "    </tr>\n",
              "    <tr>\n",
              "      <th>1</th>\n",
              "      <td>Apple</td>\n",
              "      <td>Macbook Air</td>\n",
              "      <td>Ultrabook</td>\n",
              "      <td>13.3\"</td>\n",
              "      <td>1440x900</td>\n",
              "      <td>Intel Core i5 1.8GHz</td>\n",
              "      <td>8GB</td>\n",
              "      <td>128GB Flash Storage</td>\n",
              "      <td>Intel HD Graphics 6000</td>\n",
              "      <td>macOS</td>\n",
              "      <td>NaN</td>\n",
              "      <td>1.34kg</td>\n",
              "      <td>7993374.48</td>\n",
              "    </tr>\n",
              "    <tr>\n",
              "      <th>2</th>\n",
              "      <td>HP</td>\n",
              "      <td>250 G6</td>\n",
              "      <td>Notebook</td>\n",
              "      <td>15.6\"</td>\n",
              "      <td>Full HD 1920x1080</td>\n",
              "      <td>Intel Core i5 7200U 2.5GHz</td>\n",
              "      <td>8GB</td>\n",
              "      <td>256GB SSD</td>\n",
              "      <td>Intel HD Graphics 620</td>\n",
              "      <td>No OS</td>\n",
              "      <td>NaN</td>\n",
              "      <td>1.86kg</td>\n",
              "      <td>5112900.00</td>\n",
              "    </tr>\n",
              "    <tr>\n",
              "      <th>3</th>\n",
              "      <td>Apple</td>\n",
              "      <td>MacBook Pro</td>\n",
              "      <td>Ultrabook</td>\n",
              "      <td>15.4\"</td>\n",
              "      <td>IPS Panel Retina Display 2880x1800</td>\n",
              "      <td>Intel Core i7 2.7GHz</td>\n",
              "      <td>16GB</td>\n",
              "      <td>512GB SSD</td>\n",
              "      <td>AMD Radeon Pro 455</td>\n",
              "      <td>macOS</td>\n",
              "      <td>NaN</td>\n",
              "      <td>1.83kg</td>\n",
              "      <td>22563005.40</td>\n",
              "    </tr>\n",
              "    <tr>\n",
              "      <th>4</th>\n",
              "      <td>Apple</td>\n",
              "      <td>MacBook Pro</td>\n",
              "      <td>Ultrabook</td>\n",
              "      <td>13.3\"</td>\n",
              "      <td>IPS Panel Retina Display 2560x1600</td>\n",
              "      <td>Intel Core i5 3.1GHz</td>\n",
              "      <td>8GB</td>\n",
              "      <td>256GB SSD</td>\n",
              "      <td>Intel Iris Plus Graphics 650</td>\n",
              "      <td>macOS</td>\n",
              "      <td>NaN</td>\n",
              "      <td>1.37kg</td>\n",
              "      <td>16037611.20</td>\n",
              "    </tr>\n",
              "  </tbody>\n",
              "</table>\n",
              "</div>\n",
              "      <button class=\"colab-df-convert\" onclick=\"convertToInteractive('df-cb3ecda4-dff0-4cd6-b079-b5b0e96d9494')\"\n",
              "              title=\"Convert this dataframe to an interactive table.\"\n",
              "              style=\"display:none;\">\n",
              "        \n",
              "  <svg xmlns=\"http://www.w3.org/2000/svg\" height=\"24px\"viewBox=\"0 0 24 24\"\n",
              "       width=\"24px\">\n",
              "    <path d=\"M0 0h24v24H0V0z\" fill=\"none\"/>\n",
              "    <path d=\"M18.56 5.44l.94 2.06.94-2.06 2.06-.94-2.06-.94-.94-2.06-.94 2.06-2.06.94zm-11 1L8.5 8.5l.94-2.06 2.06-.94-2.06-.94L8.5 2.5l-.94 2.06-2.06.94zm10 10l.94 2.06.94-2.06 2.06-.94-2.06-.94-.94-2.06-.94 2.06-2.06.94z\"/><path d=\"M17.41 7.96l-1.37-1.37c-.4-.4-.92-.59-1.43-.59-.52 0-1.04.2-1.43.59L10.3 9.45l-7.72 7.72c-.78.78-.78 2.05 0 2.83L4 21.41c.39.39.9.59 1.41.59.51 0 1.02-.2 1.41-.59l7.78-7.78 2.81-2.81c.8-.78.8-2.07 0-2.86zM5.41 20L4 18.59l7.72-7.72 1.47 1.35L5.41 20z\"/>\n",
              "  </svg>\n",
              "      </button>\n",
              "      \n",
              "  <style>\n",
              "    .colab-df-container {\n",
              "      display:flex;\n",
              "      flex-wrap:wrap;\n",
              "      gap: 12px;\n",
              "    }\n",
              "\n",
              "    .colab-df-convert {\n",
              "      background-color: #E8F0FE;\n",
              "      border: none;\n",
              "      border-radius: 50%;\n",
              "      cursor: pointer;\n",
              "      display: none;\n",
              "      fill: #1967D2;\n",
              "      height: 32px;\n",
              "      padding: 0 0 0 0;\n",
              "      width: 32px;\n",
              "    }\n",
              "\n",
              "    .colab-df-convert:hover {\n",
              "      background-color: #E2EBFA;\n",
              "      box-shadow: 0px 1px 2px rgba(60, 64, 67, 0.3), 0px 1px 3px 1px rgba(60, 64, 67, 0.15);\n",
              "      fill: #174EA6;\n",
              "    }\n",
              "\n",
              "    [theme=dark] .colab-df-convert {\n",
              "      background-color: #3B4455;\n",
              "      fill: #D2E3FC;\n",
              "    }\n",
              "\n",
              "    [theme=dark] .colab-df-convert:hover {\n",
              "      background-color: #434B5C;\n",
              "      box-shadow: 0px 1px 3px 1px rgba(0, 0, 0, 0.15);\n",
              "      filter: drop-shadow(0px 1px 2px rgba(0, 0, 0, 0.3));\n",
              "      fill: #FFFFFF;\n",
              "    }\n",
              "  </style>\n",
              "\n",
              "      <script>\n",
              "        const buttonEl =\n",
              "          document.querySelector('#df-cb3ecda4-dff0-4cd6-b079-b5b0e96d9494 button.colab-df-convert');\n",
              "        buttonEl.style.display =\n",
              "          google.colab.kernel.accessAllowed ? 'block' : 'none';\n",
              "\n",
              "        async function convertToInteractive(key) {\n",
              "          const element = document.querySelector('#df-cb3ecda4-dff0-4cd6-b079-b5b0e96d9494');\n",
              "          const dataTable =\n",
              "            await google.colab.kernel.invokeFunction('convertToInteractive',\n",
              "                                                     [key], {});\n",
              "          if (!dataTable) return;\n",
              "\n",
              "          const docLinkHtml = 'Like what you see? Visit the ' +\n",
              "            '<a target=\"_blank\" href=https://colab.research.google.com/notebooks/data_table.ipynb>data table notebook</a>'\n",
              "            + ' to learn more about interactive tables.';\n",
              "          element.innerHTML = '';\n",
              "          dataTable['output_type'] = 'display_data';\n",
              "          await google.colab.output.renderOutput(dataTable, element);\n",
              "          const docLink = document.createElement('div');\n",
              "          docLink.innerHTML = docLinkHtml;\n",
              "          element.appendChild(docLink);\n",
              "        }\n",
              "      </script>\n",
              "    </div>\n",
              "  </div>\n",
              "  "
            ]
          },
          "metadata": {},
          "execution_count": 6
        }
      ]
    },
    {
      "cell_type": "code",
      "source": [
        "df_test.head()"
      ],
      "metadata": {
        "colab": {
          "base_uri": "https://localhost:8080/",
          "height": 582
        },
        "id": "n-Sf8_5AUkNL",
        "outputId": "01d287cd-8f7b-4cab-9a8f-266c66726648"
      },
      "execution_count": null,
      "outputs": [
        {
          "output_type": "execute_result",
          "data": {
            "text/plain": [
              "  Manufacturer                         Model Name            Category  \\\n",
              "0           HP  15-bs053od (i7-7500U/6GB/1TB/W10)            Notebook   \n",
              "1         Asus                   Rog GL753VE-DS74              Gaming   \n",
              "2         Dell                      Inspiron 7579  2 in 1 Convertible   \n",
              "3      Toshiba                  Portege Z30-C-1CV            Notebook   \n",
              "4       Lenovo                  IdeaPad 320-15ABR            Notebook   \n",
              "\n",
              "  Screen Size                                     Screen  \\\n",
              "0       15.6\"                                   1366x768   \n",
              "1       17.3\"                          Full HD 1920x1080   \n",
              "2       15.6\"  IPS Panel Full HD / Touchscreen 1920x1080   \n",
              "3       13.3\"                          Full HD 1920x1080   \n",
              "4       15.6\"                          Full HD 1920x1080   \n",
              "\n",
              "                           CPU   RAM               Storage  \\\n",
              "0   Intel Core i7 7500U 2.7GHz   6GB               1TB HDD   \n",
              "1  Intel Core i7 7700HQ 2.8GHz  16GB  256GB SSD +  1TB HDD   \n",
              "2   Intel Core i7 7500U 2.7GHz  12GB             512GB SSD   \n",
              "3   Intel Core i5 6200U 2.3GHz   4GB             128GB SSD   \n",
              "4  AMD A12-Series 9720P 3.6GHz   6GB             256GB SSD   \n",
              "\n",
              "                          GPU Operating System Operating System Version  \\\n",
              "0       Intel HD Graphics 620          Windows                       10   \n",
              "1  Nvidia GeForce GTX 1050 Ti          Windows                       10   \n",
              "2       Intel HD Graphics 620          Windows                       10   \n",
              "3       Intel HD Graphics 520          Windows                        7   \n",
              "4              AMD Radeon 530          Windows                       10   \n",
              "\n",
              "   Weight       Price  \n",
              "0  2.04kg   5148468.0  \n",
              "1  2.99kg  15552108.0  \n",
              "2  2.19kg  11550708.0  \n",
              "3   1.2kg  10625940.0  \n",
              "4   2.2kg   4881708.0  "
            ],
            "text/html": [
              "\n",
              "  <div id=\"df-89db422b-77e7-4bda-8cc0-83e125dc226a\">\n",
              "    <div class=\"colab-df-container\">\n",
              "      <div>\n",
              "<style scoped>\n",
              "    .dataframe tbody tr th:only-of-type {\n",
              "        vertical-align: middle;\n",
              "    }\n",
              "\n",
              "    .dataframe tbody tr th {\n",
              "        vertical-align: top;\n",
              "    }\n",
              "\n",
              "    .dataframe thead th {\n",
              "        text-align: right;\n",
              "    }\n",
              "</style>\n",
              "<table border=\"1\" class=\"dataframe\">\n",
              "  <thead>\n",
              "    <tr style=\"text-align: right;\">\n",
              "      <th></th>\n",
              "      <th>Manufacturer</th>\n",
              "      <th>Model Name</th>\n",
              "      <th>Category</th>\n",
              "      <th>Screen Size</th>\n",
              "      <th>Screen</th>\n",
              "      <th>CPU</th>\n",
              "      <th>RAM</th>\n",
              "      <th>Storage</th>\n",
              "      <th>GPU</th>\n",
              "      <th>Operating System</th>\n",
              "      <th>Operating System Version</th>\n",
              "      <th>Weight</th>\n",
              "      <th>Price</th>\n",
              "    </tr>\n",
              "  </thead>\n",
              "  <tbody>\n",
              "    <tr>\n",
              "      <th>0</th>\n",
              "      <td>HP</td>\n",
              "      <td>15-bs053od (i7-7500U/6GB/1TB/W10)</td>\n",
              "      <td>Notebook</td>\n",
              "      <td>15.6\"</td>\n",
              "      <td>1366x768</td>\n",
              "      <td>Intel Core i7 7500U 2.7GHz</td>\n",
              "      <td>6GB</td>\n",
              "      <td>1TB HDD</td>\n",
              "      <td>Intel HD Graphics 620</td>\n",
              "      <td>Windows</td>\n",
              "      <td>10</td>\n",
              "      <td>2.04kg</td>\n",
              "      <td>5148468.0</td>\n",
              "    </tr>\n",
              "    <tr>\n",
              "      <th>1</th>\n",
              "      <td>Asus</td>\n",
              "      <td>Rog GL753VE-DS74</td>\n",
              "      <td>Gaming</td>\n",
              "      <td>17.3\"</td>\n",
              "      <td>Full HD 1920x1080</td>\n",
              "      <td>Intel Core i7 7700HQ 2.8GHz</td>\n",
              "      <td>16GB</td>\n",
              "      <td>256GB SSD +  1TB HDD</td>\n",
              "      <td>Nvidia GeForce GTX 1050 Ti</td>\n",
              "      <td>Windows</td>\n",
              "      <td>10</td>\n",
              "      <td>2.99kg</td>\n",
              "      <td>15552108.0</td>\n",
              "    </tr>\n",
              "    <tr>\n",
              "      <th>2</th>\n",
              "      <td>Dell</td>\n",
              "      <td>Inspiron 7579</td>\n",
              "      <td>2 in 1 Convertible</td>\n",
              "      <td>15.6\"</td>\n",
              "      <td>IPS Panel Full HD / Touchscreen 1920x1080</td>\n",
              "      <td>Intel Core i7 7500U 2.7GHz</td>\n",
              "      <td>12GB</td>\n",
              "      <td>512GB SSD</td>\n",
              "      <td>Intel HD Graphics 620</td>\n",
              "      <td>Windows</td>\n",
              "      <td>10</td>\n",
              "      <td>2.19kg</td>\n",
              "      <td>11550708.0</td>\n",
              "    </tr>\n",
              "    <tr>\n",
              "      <th>3</th>\n",
              "      <td>Toshiba</td>\n",
              "      <td>Portege Z30-C-1CV</td>\n",
              "      <td>Notebook</td>\n",
              "      <td>13.3\"</td>\n",
              "      <td>Full HD 1920x1080</td>\n",
              "      <td>Intel Core i5 6200U 2.3GHz</td>\n",
              "      <td>4GB</td>\n",
              "      <td>128GB SSD</td>\n",
              "      <td>Intel HD Graphics 520</td>\n",
              "      <td>Windows</td>\n",
              "      <td>7</td>\n",
              "      <td>1.2kg</td>\n",
              "      <td>10625940.0</td>\n",
              "    </tr>\n",
              "    <tr>\n",
              "      <th>4</th>\n",
              "      <td>Lenovo</td>\n",
              "      <td>IdeaPad 320-15ABR</td>\n",
              "      <td>Notebook</td>\n",
              "      <td>15.6\"</td>\n",
              "      <td>Full HD 1920x1080</td>\n",
              "      <td>AMD A12-Series 9720P 3.6GHz</td>\n",
              "      <td>6GB</td>\n",
              "      <td>256GB SSD</td>\n",
              "      <td>AMD Radeon 530</td>\n",
              "      <td>Windows</td>\n",
              "      <td>10</td>\n",
              "      <td>2.2kg</td>\n",
              "      <td>4881708.0</td>\n",
              "    </tr>\n",
              "  </tbody>\n",
              "</table>\n",
              "</div>\n",
              "      <button class=\"colab-df-convert\" onclick=\"convertToInteractive('df-89db422b-77e7-4bda-8cc0-83e125dc226a')\"\n",
              "              title=\"Convert this dataframe to an interactive table.\"\n",
              "              style=\"display:none;\">\n",
              "        \n",
              "  <svg xmlns=\"http://www.w3.org/2000/svg\" height=\"24px\"viewBox=\"0 0 24 24\"\n",
              "       width=\"24px\">\n",
              "    <path d=\"M0 0h24v24H0V0z\" fill=\"none\"/>\n",
              "    <path d=\"M18.56 5.44l.94 2.06.94-2.06 2.06-.94-2.06-.94-.94-2.06-.94 2.06-2.06.94zm-11 1L8.5 8.5l.94-2.06 2.06-.94-2.06-.94L8.5 2.5l-.94 2.06-2.06.94zm10 10l.94 2.06.94-2.06 2.06-.94-2.06-.94-.94-2.06-.94 2.06-2.06.94z\"/><path d=\"M17.41 7.96l-1.37-1.37c-.4-.4-.92-.59-1.43-.59-.52 0-1.04.2-1.43.59L10.3 9.45l-7.72 7.72c-.78.78-.78 2.05 0 2.83L4 21.41c.39.39.9.59 1.41.59.51 0 1.02-.2 1.41-.59l7.78-7.78 2.81-2.81c.8-.78.8-2.07 0-2.86zM5.41 20L4 18.59l7.72-7.72 1.47 1.35L5.41 20z\"/>\n",
              "  </svg>\n",
              "      </button>\n",
              "      \n",
              "  <style>\n",
              "    .colab-df-container {\n",
              "      display:flex;\n",
              "      flex-wrap:wrap;\n",
              "      gap: 12px;\n",
              "    }\n",
              "\n",
              "    .colab-df-convert {\n",
              "      background-color: #E8F0FE;\n",
              "      border: none;\n",
              "      border-radius: 50%;\n",
              "      cursor: pointer;\n",
              "      display: none;\n",
              "      fill: #1967D2;\n",
              "      height: 32px;\n",
              "      padding: 0 0 0 0;\n",
              "      width: 32px;\n",
              "    }\n",
              "\n",
              "    .colab-df-convert:hover {\n",
              "      background-color: #E2EBFA;\n",
              "      box-shadow: 0px 1px 2px rgba(60, 64, 67, 0.3), 0px 1px 3px 1px rgba(60, 64, 67, 0.15);\n",
              "      fill: #174EA6;\n",
              "    }\n",
              "\n",
              "    [theme=dark] .colab-df-convert {\n",
              "      background-color: #3B4455;\n",
              "      fill: #D2E3FC;\n",
              "    }\n",
              "\n",
              "    [theme=dark] .colab-df-convert:hover {\n",
              "      background-color: #434B5C;\n",
              "      box-shadow: 0px 1px 3px 1px rgba(0, 0, 0, 0.15);\n",
              "      filter: drop-shadow(0px 1px 2px rgba(0, 0, 0, 0.3));\n",
              "      fill: #FFFFFF;\n",
              "    }\n",
              "  </style>\n",
              "\n",
              "      <script>\n",
              "        const buttonEl =\n",
              "          document.querySelector('#df-89db422b-77e7-4bda-8cc0-83e125dc226a button.colab-df-convert');\n",
              "        buttonEl.style.display =\n",
              "          google.colab.kernel.accessAllowed ? 'block' : 'none';\n",
              "\n",
              "        async function convertToInteractive(key) {\n",
              "          const element = document.querySelector('#df-89db422b-77e7-4bda-8cc0-83e125dc226a');\n",
              "          const dataTable =\n",
              "            await google.colab.kernel.invokeFunction('convertToInteractive',\n",
              "                                                     [key], {});\n",
              "          if (!dataTable) return;\n",
              "\n",
              "          const docLinkHtml = 'Like what you see? Visit the ' +\n",
              "            '<a target=\"_blank\" href=https://colab.research.google.com/notebooks/data_table.ipynb>data table notebook</a>'\n",
              "            + ' to learn more about interactive tables.';\n",
              "          element.innerHTML = '';\n",
              "          dataTable['output_type'] = 'display_data';\n",
              "          await google.colab.output.renderOutput(dataTable, element);\n",
              "          const docLink = document.createElement('div');\n",
              "          docLink.innerHTML = docLinkHtml;\n",
              "          element.appendChild(docLink);\n",
              "        }\n",
              "      </script>\n",
              "    </div>\n",
              "  </div>\n",
              "  "
            ]
          },
          "metadata": {},
          "execution_count": 7
        }
      ]
    },
    {
      "cell_type": "code",
      "source": [
        "df_train.reset_index(drop=True,inplace=True)\n",
        "df_test.reset_index(drop=True,inplace=True)"
      ],
      "metadata": {
        "id": "XLBQWdYKUkaV"
      },
      "execution_count": null,
      "outputs": []
    },
    {
      "cell_type": "code",
      "source": [
        "df_train.info()"
      ],
      "metadata": {
        "colab": {
          "base_uri": "https://localhost:8080/"
        },
        "id": "6bcGcg8uUkmn",
        "outputId": "0c7837f5-716f-48a1-f1cc-90cfa196d61b"
      },
      "execution_count": null,
      "outputs": [
        {
          "output_type": "stream",
          "name": "stdout",
          "text": [
            "<class 'pandas.core.frame.DataFrame'>\n",
            "RangeIndex: 977 entries, 0 to 976\n",
            "Data columns (total 13 columns):\n",
            " #   Column                    Non-Null Count  Dtype  \n",
            "---  ------                    --------------  -----  \n",
            " 0   Manufacturer              977 non-null    object \n",
            " 1   Model Name                977 non-null    object \n",
            " 2   Category                  977 non-null    object \n",
            " 3   Screen Size               977 non-null    object \n",
            " 4   Screen                    977 non-null    object \n",
            " 5   CPU                       977 non-null    object \n",
            " 6   RAM                       977 non-null    object \n",
            " 7    Storage                  977 non-null    object \n",
            " 8   GPU                       977 non-null    object \n",
            " 9   Operating System          977 non-null    object \n",
            " 10  Operating System Version  841 non-null    object \n",
            " 11  Weight                    977 non-null    object \n",
            " 12  Price                     977 non-null    float64\n",
            "dtypes: float64(1), object(12)\n",
            "memory usage: 99.4+ KB\n"
          ]
        }
      ]
    },
    {
      "cell_type": "code",
      "source": [
        "df_train = df_train.rename(columns = str.lower)\n",
        "df_test = df_test.rename(columns = str.lower)"
      ],
      "metadata": {
        "id": "61l-tzp3Uktp"
      },
      "execution_count": null,
      "outputs": []
    },
    {
      "cell_type": "code",
      "source": [
        "df_train.columns"
      ],
      "metadata": {
        "colab": {
          "base_uri": "https://localhost:8080/"
        },
        "id": "GLRPo1xYUkvf",
        "outputId": "14330f2a-733a-41b3-f59f-1727b40e73b9"
      },
      "execution_count": null,
      "outputs": [
        {
          "output_type": "execute_result",
          "data": {
            "text/plain": [
              "Index(['manufacturer', 'model name', 'category', 'screen size', 'screen',\n",
              "       'cpu', 'ram', ' storage', 'gpu', 'operating system',\n",
              "       'operating system version', 'weight', 'price'],\n",
              "      dtype='object')"
            ]
          },
          "metadata": {},
          "execution_count": 9
        }
      ]
    },
    {
      "cell_type": "code",
      "source": [
        "df_train['ram']"
      ],
      "metadata": {
        "colab": {
          "base_uri": "https://localhost:8080/"
        },
        "id": "URIU8fvVUkxT",
        "outputId": "831d48ee-607b-4a6b-c86b-7c7df51cdd8f"
      },
      "execution_count": null,
      "outputs": [
        {
          "output_type": "execute_result",
          "data": {
            "text/plain": [
              "0       8GB\n",
              "1       8GB\n",
              "2       8GB\n",
              "3      16GB\n",
              "4       8GB\n",
              "       ... \n",
              "972    32GB\n",
              "973     8GB\n",
              "974    16GB\n",
              "975     8GB\n",
              "976     4GB\n",
              "Name: ram, Length: 977, dtype: object"
            ]
          },
          "metadata": {},
          "execution_count": 10
        }
      ]
    },
    {
      "cell_type": "code",
      "source": [
        "# Resolution is seperated apart by \\d x \\d regex pattern where + indicates one or more times.\n",
        "df_train['resolution'] = df_train['screen'].str.extract(r'(\\d+x\\d+)')\n",
        "df_test['resolution'] = df_test['screen'].str.extract(r'(\\d+x\\d+)')"
      ],
      "metadata": {
        "id": "AWsA6NpKUkzJ"
      },
      "execution_count": null,
      "outputs": []
    },
    {
      "cell_type": "code",
      "source": [
        "# In screen the resolution is replaced with empty string to get the screen type.\n",
        "df_train['screen_type'] = df_train['screen'].replace(r'(\\d+x\\d+)','', regex = True)\n",
        "df_test['screen_type'] = df_test['screen'].replace(r'(\\d+x\\d+)','', regex = True)"
      ],
      "metadata": {
        "id": "pag3feJeUla9"
      },
      "execution_count": null,
      "outputs": []
    },
    {
      "cell_type": "code",
      "source": [
        "# In screen type different string formats are removed.\n",
        "df_train['screen_type'] = df_train['screen_type'].replace(r'(Full HD|Quad HD|Quad HD|\\+|/|4K Ultra HD)','', regex = True)\n",
        "df_test['screen_type'] = df_test['screen_type'].replace(r'(Full HD|Quad HD|Quad HD|\\+|/|4K Ultra HD)','', regex = True)"
      ],
      "metadata": {
        "id": "14-L5Mt6UlrU"
      },
      "execution_count": null,
      "outputs": []
    },
    {
      "cell_type": "code",
      "source": [
        "df_train['touchscreen'] = df_train['screen_type'].str.extract(r'(Touchscreen)')\n",
        "df_train['screen_type'] = df_train['screen_type'].replace(r'(Touchscreen)','', regex = True)\n",
        "\n",
        "df_test['touchscreen'] = df_test['screen_type'].str.extract(r'(Touchscreen)')\n",
        "df_test['screen_type'] = df_test['screen_type'].replace(r'(Touchscreen)','', regex = True)"
      ],
      "metadata": {
        "id": "eNi1XWJZUl3i"
      },
      "execution_count": null,
      "outputs": []
    },
    {
      "cell_type": "code",
      "source": [
        "print(df_train['touchscreen'].value_counts())\n",
        "print(df_test['touchscreen'].value_counts())"
      ],
      "metadata": {
        "colab": {
          "base_uri": "https://localhost:8080/"
        },
        "id": "Gk7e_EiXUmEY",
        "outputId": "8195684b-3f7c-4568-898e-461c11f995a3"
      },
      "execution_count": null,
      "outputs": [
        {
          "output_type": "stream",
          "name": "stdout",
          "text": [
            "Touchscreen    141\n",
            "Name: touchscreen, dtype: int64\n",
            "Touchscreen    50\n",
            "Name: touchscreen, dtype: int64\n"
          ]
        }
      ]
    },
    {
      "cell_type": "code",
      "source": [
        "# Binary Column of whether touchscreen is present or not is created.\n",
        "df_train['touchscreen'] = df_train['touchscreen'].replace('Touchscreen', 1)\n",
        "df_train['touchscreen'] = df_train['touchscreen'].replace(np.nan, 0)\n",
        "\n",
        "df_test['touchscreen'] = df_test['touchscreen'].replace('Touchscreen', 1)\n",
        "df_test['touchscreen'] = df_test['touchscreen'].replace(np.nan, 0)"
      ],
      "metadata": {
        "id": "JFG3suUtUmVl"
      },
      "execution_count": null,
      "outputs": []
    },
    {
      "cell_type": "code",
      "source": [
        "print(df_train['touchscreen'].value_counts())\n",
        "print(df_test['touchscreen'].value_counts())"
      ],
      "metadata": {
        "colab": {
          "base_uri": "https://localhost:8080/"
        },
        "id": "2uatFpvIUma0",
        "outputId": "164ca364-11fe-4093-c859-8db849512f0d"
      },
      "execution_count": null,
      "outputs": [
        {
          "output_type": "stream",
          "name": "stdout",
          "text": [
            "0.0    836\n",
            "1.0    141\n",
            "Name: touchscreen, dtype: int64\n",
            "0.0    275\n",
            "1.0     50\n",
            "Name: touchscreen, dtype: int64\n"
          ]
        }
      ]
    },
    {
      "cell_type": "code",
      "source": [
        "# Different whitespaces with different regex patterns gives multiple counts.\n",
        "df_train['screen_type'].value_counts()"
      ],
      "metadata": {
        "colab": {
          "base_uri": "https://localhost:8080/"
        },
        "id": "ZWqwb6t7UmcP",
        "outputId": "0ca03262-81b2-459a-b83e-2ee931a32146"
      },
      "execution_count": null,
      "outputs": [
        {
          "output_type": "execute_result",
          "data": {
            "text/plain": [
              "                             432\n",
              "                             208\n",
              "IPS Panel                    206\n",
              "                              57\n",
              "IPS Panel                     50\n",
              "IPS Panel Retina Display      14\n",
              "IPS Panel                     10\n",
              "Name: screen_type, dtype: int64"
            ]
          },
          "metadata": {},
          "execution_count": 18
        }
      ]
    },
    {
      "cell_type": "code",
      "source": [
        "# Replace raw string format into normal string format to remove regex patterns.\n",
        "df_train['screen_type'] = df_train['screen_type'].replace(r' ','', regex = True)\n",
        "df_test['screen_type'] = df_test['screen_type'].replace(r' ','', regex = True)\n",
        "\n",
        "df_train['screen_type'].value_counts()"
      ],
      "metadata": {
        "colab": {
          "base_uri": "https://localhost:8080/"
        },
        "id": "Jnyz1nwNUmd0",
        "outputId": "de9effe1-4ccd-4edc-eb76-c3e8bfa5bf22"
      },
      "execution_count": null,
      "outputs": [
        {
          "output_type": "execute_result",
          "data": {
            "text/plain": [
              "                         697\n",
              "IPSPanel                 266\n",
              "IPSPanelRetinaDisplay     14\n",
              "Name: screen_type, dtype: int64"
            ]
          },
          "metadata": {},
          "execution_count": 19
        }
      ]
    },
    {
      "cell_type": "code",
      "source": [
        "# Replace one or more whitespaces with np.nan in the screen type column\n",
        "df_train['screen_type'] = df_train['screen_type'].replace(r'^\\s*$', np.nan, regex = True)\n",
        "df_test['screen_type'] = df_test['screen_type'].replace(r'^\\s*$', np.nan, regex = True)\n",
        "\n",
        "df_train['screen_type'].value_counts()"
      ],
      "metadata": {
        "colab": {
          "base_uri": "https://localhost:8080/"
        },
        "id": "_DcbrxklUmfY",
        "outputId": "585b3e57-d911-4387-aaa0-2e99ca64d406"
      },
      "execution_count": null,
      "outputs": [
        {
          "output_type": "execute_result",
          "data": {
            "text/plain": [
              "IPSPanel                 266\n",
              "IPSPanelRetinaDisplay     14\n",
              "Name: screen_type, dtype: int64"
            ]
          },
          "metadata": {},
          "execution_count": 20
        }
      ]
    },
    {
      "cell_type": "code",
      "source": [
        "df_train.head()"
      ],
      "metadata": {
        "colab": {
          "base_uri": "https://localhost:8080/",
          "height": 547
        },
        "id": "EK41fcjeUmhO",
        "outputId": "9dcf4305-2b53-4860-8fd7-e7bbdfe19539"
      },
      "execution_count": null,
      "outputs": [
        {
          "output_type": "execute_result",
          "data": {
            "text/plain": [
              "  manufacturer   model name   category screen size  \\\n",
              "0        Apple  MacBook Pro  Ultrabook       13.3\"   \n",
              "1        Apple  Macbook Air  Ultrabook       13.3\"   \n",
              "2           HP       250 G6   Notebook       15.6\"   \n",
              "3        Apple  MacBook Pro  Ultrabook       15.4\"   \n",
              "4        Apple  MacBook Pro  Ultrabook       13.3\"   \n",
              "\n",
              "                               screen                         cpu   ram  \\\n",
              "0  IPS Panel Retina Display 2560x1600        Intel Core i5 2.3GHz   8GB   \n",
              "1                            1440x900        Intel Core i5 1.8GHz   8GB   \n",
              "2                   Full HD 1920x1080  Intel Core i5 7200U 2.5GHz   8GB   \n",
              "3  IPS Panel Retina Display 2880x1800        Intel Core i7 2.7GHz  16GB   \n",
              "4  IPS Panel Retina Display 2560x1600        Intel Core i5 3.1GHz   8GB   \n",
              "\n",
              "               storage                           gpu operating system  \\\n",
              "0            128GB SSD  Intel Iris Plus Graphics 640            macOS   \n",
              "1  128GB Flash Storage        Intel HD Graphics 6000            macOS   \n",
              "2            256GB SSD         Intel HD Graphics 620            No OS   \n",
              "3            512GB SSD            AMD Radeon Pro 455            macOS   \n",
              "4            256GB SSD  Intel Iris Plus Graphics 650            macOS   \n",
              "\n",
              "  operating system version  weight        price resolution  \\\n",
              "0                      NaN  1.37kg  11912523.48  2560x1600   \n",
              "1                      NaN  1.34kg   7993374.48   1440x900   \n",
              "2                      NaN  1.86kg   5112900.00  1920x1080   \n",
              "3                      NaN  1.83kg  22563005.40  2880x1800   \n",
              "4                      NaN  1.37kg  16037611.20  2560x1600   \n",
              "\n",
              "             screen_type  touchscreen  \n",
              "0  IPSPanelRetinaDisplay          0.0  \n",
              "1                    NaN          0.0  \n",
              "2                    NaN          0.0  \n",
              "3  IPSPanelRetinaDisplay          0.0  \n",
              "4  IPSPanelRetinaDisplay          0.0  "
            ],
            "text/html": [
              "\n",
              "  <div id=\"df-3ce56149-c3e6-479e-a145-7c594c63973b\">\n",
              "    <div class=\"colab-df-container\">\n",
              "      <div>\n",
              "<style scoped>\n",
              "    .dataframe tbody tr th:only-of-type {\n",
              "        vertical-align: middle;\n",
              "    }\n",
              "\n",
              "    .dataframe tbody tr th {\n",
              "        vertical-align: top;\n",
              "    }\n",
              "\n",
              "    .dataframe thead th {\n",
              "        text-align: right;\n",
              "    }\n",
              "</style>\n",
              "<table border=\"1\" class=\"dataframe\">\n",
              "  <thead>\n",
              "    <tr style=\"text-align: right;\">\n",
              "      <th></th>\n",
              "      <th>manufacturer</th>\n",
              "      <th>model name</th>\n",
              "      <th>category</th>\n",
              "      <th>screen size</th>\n",
              "      <th>screen</th>\n",
              "      <th>cpu</th>\n",
              "      <th>ram</th>\n",
              "      <th>storage</th>\n",
              "      <th>gpu</th>\n",
              "      <th>operating system</th>\n",
              "      <th>operating system version</th>\n",
              "      <th>weight</th>\n",
              "      <th>price</th>\n",
              "      <th>resolution</th>\n",
              "      <th>screen_type</th>\n",
              "      <th>touchscreen</th>\n",
              "    </tr>\n",
              "  </thead>\n",
              "  <tbody>\n",
              "    <tr>\n",
              "      <th>0</th>\n",
              "      <td>Apple</td>\n",
              "      <td>MacBook Pro</td>\n",
              "      <td>Ultrabook</td>\n",
              "      <td>13.3\"</td>\n",
              "      <td>IPS Panel Retina Display 2560x1600</td>\n",
              "      <td>Intel Core i5 2.3GHz</td>\n",
              "      <td>8GB</td>\n",
              "      <td>128GB SSD</td>\n",
              "      <td>Intel Iris Plus Graphics 640</td>\n",
              "      <td>macOS</td>\n",
              "      <td>NaN</td>\n",
              "      <td>1.37kg</td>\n",
              "      <td>11912523.48</td>\n",
              "      <td>2560x1600</td>\n",
              "      <td>IPSPanelRetinaDisplay</td>\n",
              "      <td>0.0</td>\n",
              "    </tr>\n",
              "    <tr>\n",
              "      <th>1</th>\n",
              "      <td>Apple</td>\n",
              "      <td>Macbook Air</td>\n",
              "      <td>Ultrabook</td>\n",
              "      <td>13.3\"</td>\n",
              "      <td>1440x900</td>\n",
              "      <td>Intel Core i5 1.8GHz</td>\n",
              "      <td>8GB</td>\n",
              "      <td>128GB Flash Storage</td>\n",
              "      <td>Intel HD Graphics 6000</td>\n",
              "      <td>macOS</td>\n",
              "      <td>NaN</td>\n",
              "      <td>1.34kg</td>\n",
              "      <td>7993374.48</td>\n",
              "      <td>1440x900</td>\n",
              "      <td>NaN</td>\n",
              "      <td>0.0</td>\n",
              "    </tr>\n",
              "    <tr>\n",
              "      <th>2</th>\n",
              "      <td>HP</td>\n",
              "      <td>250 G6</td>\n",
              "      <td>Notebook</td>\n",
              "      <td>15.6\"</td>\n",
              "      <td>Full HD 1920x1080</td>\n",
              "      <td>Intel Core i5 7200U 2.5GHz</td>\n",
              "      <td>8GB</td>\n",
              "      <td>256GB SSD</td>\n",
              "      <td>Intel HD Graphics 620</td>\n",
              "      <td>No OS</td>\n",
              "      <td>NaN</td>\n",
              "      <td>1.86kg</td>\n",
              "      <td>5112900.00</td>\n",
              "      <td>1920x1080</td>\n",
              "      <td>NaN</td>\n",
              "      <td>0.0</td>\n",
              "    </tr>\n",
              "    <tr>\n",
              "      <th>3</th>\n",
              "      <td>Apple</td>\n",
              "      <td>MacBook Pro</td>\n",
              "      <td>Ultrabook</td>\n",
              "      <td>15.4\"</td>\n",
              "      <td>IPS Panel Retina Display 2880x1800</td>\n",
              "      <td>Intel Core i7 2.7GHz</td>\n",
              "      <td>16GB</td>\n",
              "      <td>512GB SSD</td>\n",
              "      <td>AMD Radeon Pro 455</td>\n",
              "      <td>macOS</td>\n",
              "      <td>NaN</td>\n",
              "      <td>1.83kg</td>\n",
              "      <td>22563005.40</td>\n",
              "      <td>2880x1800</td>\n",
              "      <td>IPSPanelRetinaDisplay</td>\n",
              "      <td>0.0</td>\n",
              "    </tr>\n",
              "    <tr>\n",
              "      <th>4</th>\n",
              "      <td>Apple</td>\n",
              "      <td>MacBook Pro</td>\n",
              "      <td>Ultrabook</td>\n",
              "      <td>13.3\"</td>\n",
              "      <td>IPS Panel Retina Display 2560x1600</td>\n",
              "      <td>Intel Core i5 3.1GHz</td>\n",
              "      <td>8GB</td>\n",
              "      <td>256GB SSD</td>\n",
              "      <td>Intel Iris Plus Graphics 650</td>\n",
              "      <td>macOS</td>\n",
              "      <td>NaN</td>\n",
              "      <td>1.37kg</td>\n",
              "      <td>16037611.20</td>\n",
              "      <td>2560x1600</td>\n",
              "      <td>IPSPanelRetinaDisplay</td>\n",
              "      <td>0.0</td>\n",
              "    </tr>\n",
              "  </tbody>\n",
              "</table>\n",
              "</div>\n",
              "      <button class=\"colab-df-convert\" onclick=\"convertToInteractive('df-3ce56149-c3e6-479e-a145-7c594c63973b')\"\n",
              "              title=\"Convert this dataframe to an interactive table.\"\n",
              "              style=\"display:none;\">\n",
              "        \n",
              "  <svg xmlns=\"http://www.w3.org/2000/svg\" height=\"24px\"viewBox=\"0 0 24 24\"\n",
              "       width=\"24px\">\n",
              "    <path d=\"M0 0h24v24H0V0z\" fill=\"none\"/>\n",
              "    <path d=\"M18.56 5.44l.94 2.06.94-2.06 2.06-.94-2.06-.94-.94-2.06-.94 2.06-2.06.94zm-11 1L8.5 8.5l.94-2.06 2.06-.94-2.06-.94L8.5 2.5l-.94 2.06-2.06.94zm10 10l.94 2.06.94-2.06 2.06-.94-2.06-.94-.94-2.06-.94 2.06-2.06.94z\"/><path d=\"M17.41 7.96l-1.37-1.37c-.4-.4-.92-.59-1.43-.59-.52 0-1.04.2-1.43.59L10.3 9.45l-7.72 7.72c-.78.78-.78 2.05 0 2.83L4 21.41c.39.39.9.59 1.41.59.51 0 1.02-.2 1.41-.59l7.78-7.78 2.81-2.81c.8-.78.8-2.07 0-2.86zM5.41 20L4 18.59l7.72-7.72 1.47 1.35L5.41 20z\"/>\n",
              "  </svg>\n",
              "      </button>\n",
              "      \n",
              "  <style>\n",
              "    .colab-df-container {\n",
              "      display:flex;\n",
              "      flex-wrap:wrap;\n",
              "      gap: 12px;\n",
              "    }\n",
              "\n",
              "    .colab-df-convert {\n",
              "      background-color: #E8F0FE;\n",
              "      border: none;\n",
              "      border-radius: 50%;\n",
              "      cursor: pointer;\n",
              "      display: none;\n",
              "      fill: #1967D2;\n",
              "      height: 32px;\n",
              "      padding: 0 0 0 0;\n",
              "      width: 32px;\n",
              "    }\n",
              "\n",
              "    .colab-df-convert:hover {\n",
              "      background-color: #E2EBFA;\n",
              "      box-shadow: 0px 1px 2px rgba(60, 64, 67, 0.3), 0px 1px 3px 1px rgba(60, 64, 67, 0.15);\n",
              "      fill: #174EA6;\n",
              "    }\n",
              "\n",
              "    [theme=dark] .colab-df-convert {\n",
              "      background-color: #3B4455;\n",
              "      fill: #D2E3FC;\n",
              "    }\n",
              "\n",
              "    [theme=dark] .colab-df-convert:hover {\n",
              "      background-color: #434B5C;\n",
              "      box-shadow: 0px 1px 3px 1px rgba(0, 0, 0, 0.15);\n",
              "      filter: drop-shadow(0px 1px 2px rgba(0, 0, 0, 0.3));\n",
              "      fill: #FFFFFF;\n",
              "    }\n",
              "  </style>\n",
              "\n",
              "      <script>\n",
              "        const buttonEl =\n",
              "          document.querySelector('#df-3ce56149-c3e6-479e-a145-7c594c63973b button.colab-df-convert');\n",
              "        buttonEl.style.display =\n",
              "          google.colab.kernel.accessAllowed ? 'block' : 'none';\n",
              "\n",
              "        async function convertToInteractive(key) {\n",
              "          const element = document.querySelector('#df-3ce56149-c3e6-479e-a145-7c594c63973b');\n",
              "          const dataTable =\n",
              "            await google.colab.kernel.invokeFunction('convertToInteractive',\n",
              "                                                     [key], {});\n",
              "          if (!dataTable) return;\n",
              "\n",
              "          const docLinkHtml = 'Like what you see? Visit the ' +\n",
              "            '<a target=\"_blank\" href=https://colab.research.google.com/notebooks/data_table.ipynb>data table notebook</a>'\n",
              "            + ' to learn more about interactive tables.';\n",
              "          element.innerHTML = '';\n",
              "          dataTable['output_type'] = 'display_data';\n",
              "          await google.colab.output.renderOutput(dataTable, element);\n",
              "          const docLink = document.createElement('div');\n",
              "          docLink.innerHTML = docLinkHtml;\n",
              "          element.appendChild(docLink);\n",
              "        }\n",
              "      </script>\n",
              "    </div>\n",
              "  </div>\n",
              "  "
            ]
          },
          "metadata": {},
          "execution_count": 21
        }
      ]
    },
    {
      "cell_type": "code",
      "source": [
        "df_train = df_train.drop('screen', axis = 1)\n",
        "df_test = df_test.drop('screen', axis = 1)"
      ],
      "metadata": {
        "id": "NYV5ER2-Umiz"
      },
      "execution_count": null,
      "outputs": []
    },
    {
      "cell_type": "code",
      "source": [
        "df_train['resolution'].value_counts()\n",
        "df_train['screen_type'].value_counts()"
      ],
      "metadata": {
        "colab": {
          "base_uri": "https://localhost:8080/"
        },
        "id": "Bc3du-aNUmkX",
        "outputId": "9ae8135c-8659-487e-d692-8862e5d93f34"
      },
      "execution_count": null,
      "outputs": [
        {
          "output_type": "execute_result",
          "data": {
            "text/plain": [
              "IPSPanel                 266\n",
              "IPSPanelRetinaDisplay     14\n",
              "Name: screen_type, dtype: int64"
            ]
          },
          "metadata": {},
          "execution_count": 23
        }
      ]
    },
    {
      "cell_type": "code",
      "source": [
        "df_train['cpu_freq'] = df_train['cpu'].str.extract(r'(\\d+(?:\\.\\d+)?GHz)') \n",
        "df_test['cpu_freq'] = df_test['cpu'].str.extract(r'(\\d+(?:\\.\\d+)?GHz)') "
      ],
      "metadata": {
        "id": "cuJSb3NKUml1"
      },
      "execution_count": null,
      "outputs": []
    },
    {
      "cell_type": "code",
      "source": [
        "df_train['cpu_freq'] = df_train['cpu_freq'].str.replace('GHz', '')\n",
        "df_train.rename(columns = {'cpu_freq': 'cpu_freq(GHz)'}, inplace = True)\n",
        "df_train['cpu_freq(GHz)'] = df_train['cpu_freq(GHz)'].astype(float)\n",
        "\n",
        "df_test['cpu_freq'] = df_test['cpu_freq'].str.replace('GHz', '')\n",
        "df_test.rename(columns = {'cpu_freq': 'cpu_freq(GHz)'}, inplace = True)\n",
        "df_test['cpu_freq(GHz)'] = df_test['cpu_freq(GHz)'].astype(float)"
      ],
      "metadata": {
        "id": "DN4A1fXsb0e7"
      },
      "execution_count": null,
      "outputs": []
    },
    {
      "cell_type": "code",
      "source": [
        "df_train['cpu_freq(GHz)'].value_counts()"
      ],
      "metadata": {
        "colab": {
          "base_uri": "https://localhost:8080/"
        },
        "id": "xEM5gbR3b0ZA",
        "outputId": "b1e15c72-5825-446b-d28d-71db47552458"
      },
      "execution_count": null,
      "outputs": [
        {
          "output_type": "execute_result",
          "data": {
            "text/plain": [
              "2.50    213\n",
              "2.80    142\n",
              "2.70    127\n",
              "1.60    109\n",
              "1.80     75\n",
              "2.00     70\n",
              "1.10     46\n",
              "2.30     40\n",
              "2.60     34\n",
              "2.40     32\n",
              "2.90     18\n",
              "3.00     18\n",
              "1.20     11\n",
              "2.20      8\n",
              "1.44      7\n",
              "1.50      7\n",
              "1.30      5\n",
              "3.10      3\n",
              "3.60      3\n",
              "2.10      3\n",
              "1.90      2\n",
              "3.20      1\n",
              "1.00      1\n",
              "0.90      1\n",
              "1.92      1\n",
              "Name: cpu_freq(GHz), dtype: int64"
            ]
          },
          "metadata": {},
          "execution_count": 26
        }
      ]
    },
    {
      "cell_type": "code",
      "source": [
        "df_test['cpu_freq(GHz)'].value_counts()"
      ],
      "metadata": {
        "colab": {
          "base_uri": "https://localhost:8080/"
        },
        "id": "jdQMF0k9b0lG",
        "outputId": "2ea953a4-34e6-48c9-d231-df91b879b7e0"
      },
      "execution_count": null,
      "outputs": [
        {
          "output_type": "execute_result",
          "data": {
            "text/plain": [
              "2.50    80\n",
              "2.30    46\n",
              "2.60    42\n",
              "2.70    38\n",
              "1.60    25\n",
              "2.80    23\n",
              "2.40    20\n",
              "2.00    16\n",
              "1.10     7\n",
              "1.44     5\n",
              "1.20     4\n",
              "2.20     3\n",
              "1.50     3\n",
              "1.80     3\n",
              "0.90     3\n",
              "2.90     3\n",
              "3.60     2\n",
              "3.00     1\n",
              "1.30     1\n",
              "Name: cpu_freq(GHz), dtype: int64"
            ]
          },
          "metadata": {},
          "execution_count": 27
        }
      ]
    },
    {
      "cell_type": "code",
      "source": [
        "df_train['cpu']= df_train['cpu'].str.replace(r'(\\d+(?:\\.\\d+)?GHz)', '', regex = True)\n",
        "df_test['cpu']= df_test['cpu'].str.replace(r'(\\d+(?:\\.\\d+)?GHz)', '', regex = True)"
      ],
      "metadata": {
        "id": "9aGSZ-Lqb0nT"
      },
      "execution_count": null,
      "outputs": []
    },
    {
      "cell_type": "code",
      "source": [
        "df_train['ram'] = df_train['ram'].str.replace('GB', '')\n",
        "df_train.rename(columns = {'ram': 'ram(GB)'}, inplace = True)\n",
        "df_train['ram(GB)'] = df_train['ram(GB)'].astype(float)\n",
        "\n",
        "df_test['ram'] = df_test['ram'].str.replace('GB', '')\n",
        "df_test.rename(columns = {'ram': 'ram(GB)'}, inplace = True)\n",
        "df_test['ram(GB)'] = df_test['ram(GB)'].astype(float)"
      ],
      "metadata": {
        "id": "KlsuOxLwb0rv"
      },
      "execution_count": null,
      "outputs": []
    },
    {
      "cell_type": "code",
      "source": [
        "df_train.head()"
      ],
      "metadata": {
        "colab": {
          "base_uri": "https://localhost:8080/",
          "height": 513
        },
        "id": "dgTuYRtBb0v2",
        "outputId": "5087ea1a-3ec0-4601-efa3-9705b22309ad"
      },
      "execution_count": null,
      "outputs": [
        {
          "output_type": "execute_result",
          "data": {
            "text/plain": [
              "  manufacturer   model name   category  screen size                   cpu  \\\n",
              "0        Apple  MacBook Pro  Ultrabook         13.3        Intel Core i5    \n",
              "1        Apple  Macbook Air  Ultrabook         13.3        Intel Core i5    \n",
              "2           HP       250 G6   Notebook         15.6  Intel Core i5 7200U    \n",
              "3        Apple  MacBook Pro  Ultrabook         15.4        Intel Core i7    \n",
              "4        Apple  MacBook Pro  Ultrabook         13.3        Intel Core i5    \n",
              "\n",
              "   ram(GB)              storage                           gpu  \\\n",
              "0      8.0            128GB SSD  Intel Iris Plus Graphics 640   \n",
              "1      8.0  128GB Flash Storage        Intel HD Graphics 6000   \n",
              "2      8.0            256GB SSD         Intel HD Graphics 620   \n",
              "3     16.0            512GB SSD            AMD Radeon Pro 455   \n",
              "4      8.0            256GB SSD  Intel Iris Plus Graphics 650   \n",
              "\n",
              "  operating system os_version  weight        price resolution  \\\n",
              "0            macOS         10    1.37  11912523.48  2560x1600   \n",
              "1            macOS         10    1.34   7993374.48   1440x900   \n",
              "2            No OS         10    1.86   5112900.00  1920x1080   \n",
              "3            macOS         10    1.83  22563005.40  2880x1800   \n",
              "4            macOS         10    1.37  16037611.20  2560x1600   \n",
              "\n",
              "             screen_type  touchscreen  cpu_freq(GHz)        storage(GB)  \n",
              "0  IPSPanelRetinaDisplay          0.0            2.3            128 ssd  \n",
              "1                    NaN          0.0            1.8  128 flash_storage  \n",
              "2                    NaN          0.0            2.5            256 ssd  \n",
              "3  IPSPanelRetinaDisplay          0.0            2.7            512 ssd  \n",
              "4  IPSPanelRetinaDisplay          0.0            3.1            256 ssd  "
            ],
            "text/html": [
              "\n",
              "  <div id=\"df-95a1c101-e361-4511-8540-2953ea68f827\">\n",
              "    <div class=\"colab-df-container\">\n",
              "      <div>\n",
              "<style scoped>\n",
              "    .dataframe tbody tr th:only-of-type {\n",
              "        vertical-align: middle;\n",
              "    }\n",
              "\n",
              "    .dataframe tbody tr th {\n",
              "        vertical-align: top;\n",
              "    }\n",
              "\n",
              "    .dataframe thead th {\n",
              "        text-align: right;\n",
              "    }\n",
              "</style>\n",
              "<table border=\"1\" class=\"dataframe\">\n",
              "  <thead>\n",
              "    <tr style=\"text-align: right;\">\n",
              "      <th></th>\n",
              "      <th>manufacturer</th>\n",
              "      <th>model name</th>\n",
              "      <th>category</th>\n",
              "      <th>screen size</th>\n",
              "      <th>cpu</th>\n",
              "      <th>ram(GB)</th>\n",
              "      <th>storage</th>\n",
              "      <th>gpu</th>\n",
              "      <th>operating system</th>\n",
              "      <th>os_version</th>\n",
              "      <th>weight</th>\n",
              "      <th>price</th>\n",
              "      <th>resolution</th>\n",
              "      <th>screen_type</th>\n",
              "      <th>touchscreen</th>\n",
              "      <th>cpu_freq(GHz)</th>\n",
              "      <th>storage(GB)</th>\n",
              "    </tr>\n",
              "  </thead>\n",
              "  <tbody>\n",
              "    <tr>\n",
              "      <th>0</th>\n",
              "      <td>Apple</td>\n",
              "      <td>MacBook Pro</td>\n",
              "      <td>Ultrabook</td>\n",
              "      <td>13.3</td>\n",
              "      <td>Intel Core i5</td>\n",
              "      <td>8.0</td>\n",
              "      <td>128GB SSD</td>\n",
              "      <td>Intel Iris Plus Graphics 640</td>\n",
              "      <td>macOS</td>\n",
              "      <td>10</td>\n",
              "      <td>1.37</td>\n",
              "      <td>11912523.48</td>\n",
              "      <td>2560x1600</td>\n",
              "      <td>IPSPanelRetinaDisplay</td>\n",
              "      <td>0.0</td>\n",
              "      <td>2.3</td>\n",
              "      <td>128 ssd</td>\n",
              "    </tr>\n",
              "    <tr>\n",
              "      <th>1</th>\n",
              "      <td>Apple</td>\n",
              "      <td>Macbook Air</td>\n",
              "      <td>Ultrabook</td>\n",
              "      <td>13.3</td>\n",
              "      <td>Intel Core i5</td>\n",
              "      <td>8.0</td>\n",
              "      <td>128GB Flash Storage</td>\n",
              "      <td>Intel HD Graphics 6000</td>\n",
              "      <td>macOS</td>\n",
              "      <td>10</td>\n",
              "      <td>1.34</td>\n",
              "      <td>7993374.48</td>\n",
              "      <td>1440x900</td>\n",
              "      <td>NaN</td>\n",
              "      <td>0.0</td>\n",
              "      <td>1.8</td>\n",
              "      <td>128 flash_storage</td>\n",
              "    </tr>\n",
              "    <tr>\n",
              "      <th>2</th>\n",
              "      <td>HP</td>\n",
              "      <td>250 G6</td>\n",
              "      <td>Notebook</td>\n",
              "      <td>15.6</td>\n",
              "      <td>Intel Core i5 7200U</td>\n",
              "      <td>8.0</td>\n",
              "      <td>256GB SSD</td>\n",
              "      <td>Intel HD Graphics 620</td>\n",
              "      <td>No OS</td>\n",
              "      <td>10</td>\n",
              "      <td>1.86</td>\n",
              "      <td>5112900.00</td>\n",
              "      <td>1920x1080</td>\n",
              "      <td>NaN</td>\n",
              "      <td>0.0</td>\n",
              "      <td>2.5</td>\n",
              "      <td>256 ssd</td>\n",
              "    </tr>\n",
              "    <tr>\n",
              "      <th>3</th>\n",
              "      <td>Apple</td>\n",
              "      <td>MacBook Pro</td>\n",
              "      <td>Ultrabook</td>\n",
              "      <td>15.4</td>\n",
              "      <td>Intel Core i7</td>\n",
              "      <td>16.0</td>\n",
              "      <td>512GB SSD</td>\n",
              "      <td>AMD Radeon Pro 455</td>\n",
              "      <td>macOS</td>\n",
              "      <td>10</td>\n",
              "      <td>1.83</td>\n",
              "      <td>22563005.40</td>\n",
              "      <td>2880x1800</td>\n",
              "      <td>IPSPanelRetinaDisplay</td>\n",
              "      <td>0.0</td>\n",
              "      <td>2.7</td>\n",
              "      <td>512 ssd</td>\n",
              "    </tr>\n",
              "    <tr>\n",
              "      <th>4</th>\n",
              "      <td>Apple</td>\n",
              "      <td>MacBook Pro</td>\n",
              "      <td>Ultrabook</td>\n",
              "      <td>13.3</td>\n",
              "      <td>Intel Core i5</td>\n",
              "      <td>8.0</td>\n",
              "      <td>256GB SSD</td>\n",
              "      <td>Intel Iris Plus Graphics 650</td>\n",
              "      <td>macOS</td>\n",
              "      <td>10</td>\n",
              "      <td>1.37</td>\n",
              "      <td>16037611.20</td>\n",
              "      <td>2560x1600</td>\n",
              "      <td>IPSPanelRetinaDisplay</td>\n",
              "      <td>0.0</td>\n",
              "      <td>3.1</td>\n",
              "      <td>256 ssd</td>\n",
              "    </tr>\n",
              "  </tbody>\n",
              "</table>\n",
              "</div>\n",
              "      <button class=\"colab-df-convert\" onclick=\"convertToInteractive('df-95a1c101-e361-4511-8540-2953ea68f827')\"\n",
              "              title=\"Convert this dataframe to an interactive table.\"\n",
              "              style=\"display:none;\">\n",
              "        \n",
              "  <svg xmlns=\"http://www.w3.org/2000/svg\" height=\"24px\"viewBox=\"0 0 24 24\"\n",
              "       width=\"24px\">\n",
              "    <path d=\"M0 0h24v24H0V0z\" fill=\"none\"/>\n",
              "    <path d=\"M18.56 5.44l.94 2.06.94-2.06 2.06-.94-2.06-.94-.94-2.06-.94 2.06-2.06.94zm-11 1L8.5 8.5l.94-2.06 2.06-.94-2.06-.94L8.5 2.5l-.94 2.06-2.06.94zm10 10l.94 2.06.94-2.06 2.06-.94-2.06-.94-.94-2.06-.94 2.06-2.06.94z\"/><path d=\"M17.41 7.96l-1.37-1.37c-.4-.4-.92-.59-1.43-.59-.52 0-1.04.2-1.43.59L10.3 9.45l-7.72 7.72c-.78.78-.78 2.05 0 2.83L4 21.41c.39.39.9.59 1.41.59.51 0 1.02-.2 1.41-.59l7.78-7.78 2.81-2.81c.8-.78.8-2.07 0-2.86zM5.41 20L4 18.59l7.72-7.72 1.47 1.35L5.41 20z\"/>\n",
              "  </svg>\n",
              "      </button>\n",
              "      \n",
              "  <style>\n",
              "    .colab-df-container {\n",
              "      display:flex;\n",
              "      flex-wrap:wrap;\n",
              "      gap: 12px;\n",
              "    }\n",
              "\n",
              "    .colab-df-convert {\n",
              "      background-color: #E8F0FE;\n",
              "      border: none;\n",
              "      border-radius: 50%;\n",
              "      cursor: pointer;\n",
              "      display: none;\n",
              "      fill: #1967D2;\n",
              "      height: 32px;\n",
              "      padding: 0 0 0 0;\n",
              "      width: 32px;\n",
              "    }\n",
              "\n",
              "    .colab-df-convert:hover {\n",
              "      background-color: #E2EBFA;\n",
              "      box-shadow: 0px 1px 2px rgba(60, 64, 67, 0.3), 0px 1px 3px 1px rgba(60, 64, 67, 0.15);\n",
              "      fill: #174EA6;\n",
              "    }\n",
              "\n",
              "    [theme=dark] .colab-df-convert {\n",
              "      background-color: #3B4455;\n",
              "      fill: #D2E3FC;\n",
              "    }\n",
              "\n",
              "    [theme=dark] .colab-df-convert:hover {\n",
              "      background-color: #434B5C;\n",
              "      box-shadow: 0px 1px 3px 1px rgba(0, 0, 0, 0.15);\n",
              "      filter: drop-shadow(0px 1px 2px rgba(0, 0, 0, 0.3));\n",
              "      fill: #FFFFFF;\n",
              "    }\n",
              "  </style>\n",
              "\n",
              "      <script>\n",
              "        const buttonEl =\n",
              "          document.querySelector('#df-95a1c101-e361-4511-8540-2953ea68f827 button.colab-df-convert');\n",
              "        buttonEl.style.display =\n",
              "          google.colab.kernel.accessAllowed ? 'block' : 'none';\n",
              "\n",
              "        async function convertToInteractive(key) {\n",
              "          const element = document.querySelector('#df-95a1c101-e361-4511-8540-2953ea68f827');\n",
              "          const dataTable =\n",
              "            await google.colab.kernel.invokeFunction('convertToInteractive',\n",
              "                                                     [key], {});\n",
              "          if (!dataTable) return;\n",
              "\n",
              "          const docLinkHtml = 'Like what you see? Visit the ' +\n",
              "            '<a target=\"_blank\" href=https://colab.research.google.com/notebooks/data_table.ipynb>data table notebook</a>'\n",
              "            + ' to learn more about interactive tables.';\n",
              "          element.innerHTML = '';\n",
              "          dataTable['output_type'] = 'display_data';\n",
              "          await google.colab.output.renderOutput(dataTable, element);\n",
              "          const docLink = document.createElement('div');\n",
              "          docLink.innerHTML = docLinkHtml;\n",
              "          element.appendChild(docLink);\n",
              "        }\n",
              "      </script>\n",
              "    </div>\n",
              "  </div>\n",
              "  "
            ]
          },
          "metadata": {},
          "execution_count": 59
        }
      ]
    },
    {
      "cell_type": "code",
      "source": [
        "# We can extract lots of informations from this column. We can see that some laptops have 2 hard drives,\n",
        "# there are 4 differnt types of disks: 'SSD', ''HDD', 'Hybrid' and 'Flash Storage'. \n",
        "# We will create new columns to include all these information.\n",
        "df_train[' storage'].value_counts()"
      ],
      "metadata": {
        "colab": {
          "base_uri": "https://localhost:8080/"
        },
        "id": "wvkC_h8Lb00A",
        "outputId": "a2cbba4b-1545-48c1-fa4d-3d03516d2225"
      },
      "execution_count": null,
      "outputs": [
        {
          "output_type": "execute_result",
          "data": {
            "text/plain": [
              "256GB SSD                        318\n",
              "1TB HDD                          171\n",
              "512GB SSD                         91\n",
              "500GB HDD                         79\n",
              "128GB SSD +  1TB HDD              71\n",
              "128GB SSD                         62\n",
              "256GB SSD +  1TB HDD              52\n",
              "32GB Flash Storage                29\n",
              "2TB HDD                           14\n",
              "512GB SSD +  1TB HDD              13\n",
              "1TB SSD                           11\n",
              "256GB SSD +  2TB HDD              10\n",
              "64GB Flash Storage                 9\n",
              "16GB Flash Storage                 6\n",
              "256GB Flash Storage                5\n",
              "32GB SSD                           5\n",
              "128GB Flash Storage                4\n",
              "1GB SSD                            4\n",
              "256GB SSD +  256GB SSD             2\n",
              "16GB SSD                           2\n",
              "1TB SSD +  1TB HDD                 2\n",
              "512GB SSD +  2TB HDD               2\n",
              "128GB SSD +  2TB HDD               2\n",
              "512GB SSD +  512GB SSD             1\n",
              "512GB SSD +  256GB SSD             1\n",
              "64GB SSD                           1\n",
              "64GB Flash Storage +  1TB HDD      1\n",
              "256GB SSD +  500GB HDD             1\n",
              "1TB HDD +  1TB HDD                 1\n",
              "32GB HDD                           1\n",
              "1TB Hybrid                         1\n",
              "512GB Flash Storage                1\n",
              "128GB HDD                          1\n",
              "240GB SSD                          1\n",
              "8GB SSD                            1\n",
              "508GB Hybrid                       1\n",
              "Name:  storage, dtype: int64"
            ]
          },
          "metadata": {},
          "execution_count": 60
        }
      ]
    },
    {
      "cell_type": "code",
      "source": [
        "df_train['storage(GB)'] = df_train[' storage']\n",
        "df_test['storage(GB)'] = df_test[' storage']"
      ],
      "metadata": {
        "id": "0ZBPBpKJb06A"
      },
      "execution_count": null,
      "outputs": []
    },
    {
      "cell_type": "code",
      "source": [
        "df_train['storage(GB)'] = df_train['storage(GB)'].str.replace('1.0TB','1TB', regex = True)\n",
        "df_train['storage(GB)'] = df_train['storage(GB)'].str.replace('1TB','1000GB')\n",
        "df_train['storage(GB)'] = df_train['storage(GB)'].str.replace('2TB','2000GB')\n",
        "df_train['storage(GB)'] = df_train['storage(GB)'].str.replace('GB','')\n",
        "df_train['storage(GB)'] = df_train['storage(GB)'].str.replace('flash storage','flash_storage')\n",
        "df_train['storage(GB)'] = df_train['storage(GB)'].str.lower()\n",
        "\n",
        "df_test['storage(GB)'] = df_test['storage(GB)'].str.replace('1.0TB','1TB', regex = True)\n",
        "df_test['storage(GB)'] = df_test['storage(GB)'].str.replace('1TB','1000GB')\n",
        "df_test['storage(GB)'] = df_test['storage(GB)'].str.replace('2TB','2000GB')\n",
        "df_test['storage(GB)'] = df_test['storage(GB)'].str.replace('GB','')\n",
        "df_train['storage(GB)'] = df_train['storage(GB)'].str.replace('flash storage','flash_storage')\n",
        "df_test['storage(GB)'] = df_test['storage(GB)'].str.lower()"
      ],
      "metadata": {
        "id": "M45AeKXfb08W"
      },
      "execution_count": null,
      "outputs": []
    },
    {
      "cell_type": "code",
      "source": [
        "df_test['storage(GB)'].value_counts()"
      ],
      "metadata": {
        "colab": {
          "base_uri": "https://localhost:8080/"
        },
        "id": "zJhOyc3Nb1Ff",
        "outputId": "a6a89de2-3f40-4f5e-cf96-e040f49c4a51"
      },
      "execution_count": null,
      "outputs": [
        {
          "output_type": "execute_result",
          "data": {
            "text/plain": [
              "256 ssd                   94\n",
              "1000 hdd                  53\n",
              "500 hdd                   53\n",
              "512 ssd                   27\n",
              "128 ssd +  1000 hdd       23\n",
              "256 ssd +  1000 hdd       21\n",
              "128 ssd                   14\n",
              "32 flash storage           9\n",
              "1000 hybrid                8\n",
              "64 flash storage           6\n",
              "256 flash storage          3\n",
              "1000 ssd                   3\n",
              "2000 hdd                   2\n",
              "16 flash storage           1\n",
              "512 ssd +  1000 hybrid     1\n",
              "256 ssd +  500 hdd         1\n",
              "1 ssd                      1\n",
              "16 ssd                     1\n",
              "256 ssd +  1000 hybrid     1\n",
              "512 ssd +  1000 hdd        1\n",
              "512 flash storage          1\n",
              "32 ssd                     1\n",
              "Name: storage(GB), dtype: int64"
            ]
          },
          "metadata": {},
          "execution_count": 63
        }
      ]
    },
    {
      "cell_type": "code",
      "source": [
        "df_train['operating system version']=df_train['operating system version'].fillna(df_train['operating system version'].mode()[0])\n",
        "df_train.rename(columns = {'operating system version': 'os_version'}, inplace = True)\n",
        "df_test['operating system version']=df_test['operating system version'].fillna(df_test['operating system version'].mode()[0])\n",
        "df_test.rename(columns = {'operating system version': 'os_version'}, inplace = True)"
      ],
      "metadata": {
        "id": "x-h0aohub1Ll"
      },
      "execution_count": null,
      "outputs": []
    },
    {
      "cell_type": "code",
      "source": [
        "(df_train.isnull().sum()/len(df_train))"
      ],
      "metadata": {
        "colab": {
          "base_uri": "https://localhost:8080/"
        },
        "id": "h0Rniy5tb1P5",
        "outputId": "eac62e34-4f75-4d41-8ffe-b0d5f2e6e450"
      },
      "execution_count": null,
      "outputs": [
        {
          "output_type": "execute_result",
          "data": {
            "text/plain": [
              "manufacturer        0.000000\n",
              "model name          0.000000\n",
              "category            0.000000\n",
              "screen size         0.000000\n",
              "cpu                 0.000000\n",
              "ram(GB)             0.000000\n",
              " storage            0.000000\n",
              "gpu                 0.000000\n",
              "operating system    0.000000\n",
              "os_version          0.000000\n",
              "weight              0.000000\n",
              "price               0.000000\n",
              "resolution          0.000000\n",
              "screen_type         0.713408\n",
              "touchscreen         0.000000\n",
              "cpu_freq(GHz)       0.000000\n",
              "storage(GB)         0.000000\n",
              "dtype: float64"
            ]
          },
          "metadata": {},
          "execution_count": 65
        }
      ]
    },
    {
      "cell_type": "code",
      "source": [
        "df_train['weight'].replace(to_replace='kg', value='', regex=True, inplace=True)\n",
        "df_test['weight'].replace(to_replace='kg', value='', regex=True, inplace=True)\n",
        "df_test['weight'].replace(to_replace='s', value='', regex=True, inplace=True)"
      ],
      "metadata": {
        "id": "KAXAUN6rb1TP"
      },
      "execution_count": null,
      "outputs": []
    },
    {
      "cell_type": "code",
      "source": [
        "df_train['weight'] = df_train['weight'].astype(\"float64\")\n",
        "df_test['weight'] = df_test['weight'].astype(\"float64\")"
      ],
      "metadata": {
        "id": "OlcxgesDb1XQ"
      },
      "execution_count": null,
      "outputs": []
    },
    {
      "cell_type": "code",
      "source": [
        "df_train['screen size'] = df_train['screen size'].str.strip('\"')\n",
        "df_train['screen size'] = df_train['screen size'].astype('float64')\n",
        "df_test['screen size'] = df_test['screen size'].str.strip('\"')\n",
        "df_test['screen size'] = df_test['screen size'].astype('float64')"
      ],
      "metadata": {
        "id": "qRfjW0IlUmnL"
      },
      "execution_count": null,
      "outputs": []
    },
    {
      "cell_type": "code",
      "source": [
        "df_train.head()"
      ],
      "metadata": {
        "colab": {
          "base_uri": "https://localhost:8080/",
          "height": 513
        },
        "id": "WSuKWHKxh0g3",
        "outputId": "1812da81-b87a-417e-bfec-5bf96c4959d5"
      },
      "execution_count": null,
      "outputs": [
        {
          "output_type": "execute_result",
          "data": {
            "text/plain": [
              "  manufacturer   model name   category  screen size                   cpu  \\\n",
              "0        Apple  MacBook Pro  Ultrabook         13.3        Intel Core i5    \n",
              "1        Apple  Macbook Air  Ultrabook         13.3        Intel Core i5    \n",
              "2           HP       250 G6   Notebook         15.6  Intel Core i5 7200U    \n",
              "3        Apple  MacBook Pro  Ultrabook         15.4        Intel Core i7    \n",
              "4        Apple  MacBook Pro  Ultrabook         13.3        Intel Core i5    \n",
              "\n",
              "   ram(GB)              storage                           gpu  \\\n",
              "0      8.0            128GB SSD  Intel Iris Plus Graphics 640   \n",
              "1      8.0  128GB Flash Storage        Intel HD Graphics 6000   \n",
              "2      8.0            256GB SSD         Intel HD Graphics 620   \n",
              "3     16.0            512GB SSD            AMD Radeon Pro 455   \n",
              "4      8.0            256GB SSD  Intel Iris Plus Graphics 650   \n",
              "\n",
              "  operating system os_version  weight        price resolution  \\\n",
              "0            macOS         10    1.37  11912523.48  2560x1600   \n",
              "1            macOS         10    1.34   7993374.48   1440x900   \n",
              "2            No OS         10    1.86   5112900.00  1920x1080   \n",
              "3            macOS         10    1.83  22563005.40  2880x1800   \n",
              "4            macOS         10    1.37  16037611.20  2560x1600   \n",
              "\n",
              "             screen_type  touchscreen  cpu_freq(GHz)        storage(GB)  \n",
              "0  IPSPanelRetinaDisplay          0.0            2.3            128 ssd  \n",
              "1                    NaN          0.0            1.8  128 flash_storage  \n",
              "2                    NaN          0.0            2.5            256 ssd  \n",
              "3  IPSPanelRetinaDisplay          0.0            2.7            512 ssd  \n",
              "4  IPSPanelRetinaDisplay          0.0            3.1            256 ssd  "
            ],
            "text/html": [
              "\n",
              "  <div id=\"df-17571cd2-92c6-4ef0-bce8-d0ce5ddfa907\">\n",
              "    <div class=\"colab-df-container\">\n",
              "      <div>\n",
              "<style scoped>\n",
              "    .dataframe tbody tr th:only-of-type {\n",
              "        vertical-align: middle;\n",
              "    }\n",
              "\n",
              "    .dataframe tbody tr th {\n",
              "        vertical-align: top;\n",
              "    }\n",
              "\n",
              "    .dataframe thead th {\n",
              "        text-align: right;\n",
              "    }\n",
              "</style>\n",
              "<table border=\"1\" class=\"dataframe\">\n",
              "  <thead>\n",
              "    <tr style=\"text-align: right;\">\n",
              "      <th></th>\n",
              "      <th>manufacturer</th>\n",
              "      <th>model name</th>\n",
              "      <th>category</th>\n",
              "      <th>screen size</th>\n",
              "      <th>cpu</th>\n",
              "      <th>ram(GB)</th>\n",
              "      <th>storage</th>\n",
              "      <th>gpu</th>\n",
              "      <th>operating system</th>\n",
              "      <th>os_version</th>\n",
              "      <th>weight</th>\n",
              "      <th>price</th>\n",
              "      <th>resolution</th>\n",
              "      <th>screen_type</th>\n",
              "      <th>touchscreen</th>\n",
              "      <th>cpu_freq(GHz)</th>\n",
              "      <th>storage(GB)</th>\n",
              "    </tr>\n",
              "  </thead>\n",
              "  <tbody>\n",
              "    <tr>\n",
              "      <th>0</th>\n",
              "      <td>Apple</td>\n",
              "      <td>MacBook Pro</td>\n",
              "      <td>Ultrabook</td>\n",
              "      <td>13.3</td>\n",
              "      <td>Intel Core i5</td>\n",
              "      <td>8.0</td>\n",
              "      <td>128GB SSD</td>\n",
              "      <td>Intel Iris Plus Graphics 640</td>\n",
              "      <td>macOS</td>\n",
              "      <td>10</td>\n",
              "      <td>1.37</td>\n",
              "      <td>11912523.48</td>\n",
              "      <td>2560x1600</td>\n",
              "      <td>IPSPanelRetinaDisplay</td>\n",
              "      <td>0.0</td>\n",
              "      <td>2.3</td>\n",
              "      <td>128 ssd</td>\n",
              "    </tr>\n",
              "    <tr>\n",
              "      <th>1</th>\n",
              "      <td>Apple</td>\n",
              "      <td>Macbook Air</td>\n",
              "      <td>Ultrabook</td>\n",
              "      <td>13.3</td>\n",
              "      <td>Intel Core i5</td>\n",
              "      <td>8.0</td>\n",
              "      <td>128GB Flash Storage</td>\n",
              "      <td>Intel HD Graphics 6000</td>\n",
              "      <td>macOS</td>\n",
              "      <td>10</td>\n",
              "      <td>1.34</td>\n",
              "      <td>7993374.48</td>\n",
              "      <td>1440x900</td>\n",
              "      <td>NaN</td>\n",
              "      <td>0.0</td>\n",
              "      <td>1.8</td>\n",
              "      <td>128 flash_storage</td>\n",
              "    </tr>\n",
              "    <tr>\n",
              "      <th>2</th>\n",
              "      <td>HP</td>\n",
              "      <td>250 G6</td>\n",
              "      <td>Notebook</td>\n",
              "      <td>15.6</td>\n",
              "      <td>Intel Core i5 7200U</td>\n",
              "      <td>8.0</td>\n",
              "      <td>256GB SSD</td>\n",
              "      <td>Intel HD Graphics 620</td>\n",
              "      <td>No OS</td>\n",
              "      <td>10</td>\n",
              "      <td>1.86</td>\n",
              "      <td>5112900.00</td>\n",
              "      <td>1920x1080</td>\n",
              "      <td>NaN</td>\n",
              "      <td>0.0</td>\n",
              "      <td>2.5</td>\n",
              "      <td>256 ssd</td>\n",
              "    </tr>\n",
              "    <tr>\n",
              "      <th>3</th>\n",
              "      <td>Apple</td>\n",
              "      <td>MacBook Pro</td>\n",
              "      <td>Ultrabook</td>\n",
              "      <td>15.4</td>\n",
              "      <td>Intel Core i7</td>\n",
              "      <td>16.0</td>\n",
              "      <td>512GB SSD</td>\n",
              "      <td>AMD Radeon Pro 455</td>\n",
              "      <td>macOS</td>\n",
              "      <td>10</td>\n",
              "      <td>1.83</td>\n",
              "      <td>22563005.40</td>\n",
              "      <td>2880x1800</td>\n",
              "      <td>IPSPanelRetinaDisplay</td>\n",
              "      <td>0.0</td>\n",
              "      <td>2.7</td>\n",
              "      <td>512 ssd</td>\n",
              "    </tr>\n",
              "    <tr>\n",
              "      <th>4</th>\n",
              "      <td>Apple</td>\n",
              "      <td>MacBook Pro</td>\n",
              "      <td>Ultrabook</td>\n",
              "      <td>13.3</td>\n",
              "      <td>Intel Core i5</td>\n",
              "      <td>8.0</td>\n",
              "      <td>256GB SSD</td>\n",
              "      <td>Intel Iris Plus Graphics 650</td>\n",
              "      <td>macOS</td>\n",
              "      <td>10</td>\n",
              "      <td>1.37</td>\n",
              "      <td>16037611.20</td>\n",
              "      <td>2560x1600</td>\n",
              "      <td>IPSPanelRetinaDisplay</td>\n",
              "      <td>0.0</td>\n",
              "      <td>3.1</td>\n",
              "      <td>256 ssd</td>\n",
              "    </tr>\n",
              "  </tbody>\n",
              "</table>\n",
              "</div>\n",
              "      <button class=\"colab-df-convert\" onclick=\"convertToInteractive('df-17571cd2-92c6-4ef0-bce8-d0ce5ddfa907')\"\n",
              "              title=\"Convert this dataframe to an interactive table.\"\n",
              "              style=\"display:none;\">\n",
              "        \n",
              "  <svg xmlns=\"http://www.w3.org/2000/svg\" height=\"24px\"viewBox=\"0 0 24 24\"\n",
              "       width=\"24px\">\n",
              "    <path d=\"M0 0h24v24H0V0z\" fill=\"none\"/>\n",
              "    <path d=\"M18.56 5.44l.94 2.06.94-2.06 2.06-.94-2.06-.94-.94-2.06-.94 2.06-2.06.94zm-11 1L8.5 8.5l.94-2.06 2.06-.94-2.06-.94L8.5 2.5l-.94 2.06-2.06.94zm10 10l.94 2.06.94-2.06 2.06-.94-2.06-.94-.94-2.06-.94 2.06-2.06.94z\"/><path d=\"M17.41 7.96l-1.37-1.37c-.4-.4-.92-.59-1.43-.59-.52 0-1.04.2-1.43.59L10.3 9.45l-7.72 7.72c-.78.78-.78 2.05 0 2.83L4 21.41c.39.39.9.59 1.41.59.51 0 1.02-.2 1.41-.59l7.78-7.78 2.81-2.81c.8-.78.8-2.07 0-2.86zM5.41 20L4 18.59l7.72-7.72 1.47 1.35L5.41 20z\"/>\n",
              "  </svg>\n",
              "      </button>\n",
              "      \n",
              "  <style>\n",
              "    .colab-df-container {\n",
              "      display:flex;\n",
              "      flex-wrap:wrap;\n",
              "      gap: 12px;\n",
              "    }\n",
              "\n",
              "    .colab-df-convert {\n",
              "      background-color: #E8F0FE;\n",
              "      border: none;\n",
              "      border-radius: 50%;\n",
              "      cursor: pointer;\n",
              "      display: none;\n",
              "      fill: #1967D2;\n",
              "      height: 32px;\n",
              "      padding: 0 0 0 0;\n",
              "      width: 32px;\n",
              "    }\n",
              "\n",
              "    .colab-df-convert:hover {\n",
              "      background-color: #E2EBFA;\n",
              "      box-shadow: 0px 1px 2px rgba(60, 64, 67, 0.3), 0px 1px 3px 1px rgba(60, 64, 67, 0.15);\n",
              "      fill: #174EA6;\n",
              "    }\n",
              "\n",
              "    [theme=dark] .colab-df-convert {\n",
              "      background-color: #3B4455;\n",
              "      fill: #D2E3FC;\n",
              "    }\n",
              "\n",
              "    [theme=dark] .colab-df-convert:hover {\n",
              "      background-color: #434B5C;\n",
              "      box-shadow: 0px 1px 3px 1px rgba(0, 0, 0, 0.15);\n",
              "      filter: drop-shadow(0px 1px 2px rgba(0, 0, 0, 0.3));\n",
              "      fill: #FFFFFF;\n",
              "    }\n",
              "  </style>\n",
              "\n",
              "      <script>\n",
              "        const buttonEl =\n",
              "          document.querySelector('#df-17571cd2-92c6-4ef0-bce8-d0ce5ddfa907 button.colab-df-convert');\n",
              "        buttonEl.style.display =\n",
              "          google.colab.kernel.accessAllowed ? 'block' : 'none';\n",
              "\n",
              "        async function convertToInteractive(key) {\n",
              "          const element = document.querySelector('#df-17571cd2-92c6-4ef0-bce8-d0ce5ddfa907');\n",
              "          const dataTable =\n",
              "            await google.colab.kernel.invokeFunction('convertToInteractive',\n",
              "                                                     [key], {});\n",
              "          if (!dataTable) return;\n",
              "\n",
              "          const docLinkHtml = 'Like what you see? Visit the ' +\n",
              "            '<a target=\"_blank\" href=https://colab.research.google.com/notebooks/data_table.ipynb>data table notebook</a>'\n",
              "            + ' to learn more about interactive tables.';\n",
              "          element.innerHTML = '';\n",
              "          dataTable['output_type'] = 'display_data';\n",
              "          await google.colab.output.renderOutput(dataTable, element);\n",
              "          const docLink = document.createElement('div');\n",
              "          docLink.innerHTML = docLinkHtml;\n",
              "          element.appendChild(docLink);\n",
              "        }\n",
              "      </script>\n",
              "    </div>\n",
              "  </div>\n",
              "  "
            ]
          },
          "metadata": {},
          "execution_count": 70
        }
      ]
    },
    {
      "cell_type": "code",
      "source": [
        "df_train['storage(GB)'] = df_train['storage(GB)'].str.replace(r' ','')\n",
        "df_test['storage(GB)'] = df_test['storage(GB)'].str.replace(r' ','')\n",
        "\n",
        "df_train['storage(GB)'].value_counts()"
      ],
      "metadata": {
        "colab": {
          "base_uri": "https://localhost:8080/"
        },
        "id": "-XXOvquAiXux",
        "outputId": "f5e67dc5-bc34-4bbd-e018-7f65ae602aa8"
      },
      "execution_count": null,
      "outputs": [
        {
          "output_type": "execute_result",
          "data": {
            "text/plain": [
              "256ssd                     318\n",
              "1000hdd                    171\n",
              "512ssd                      91\n",
              "500hdd                      79\n",
              "128ssd+1000hdd              71\n",
              "128ssd                      62\n",
              "256ssd+1000hdd              52\n",
              "32flash_storage             29\n",
              "2000hdd                     14\n",
              "512ssd+1000hdd              13\n",
              "1000ssd                     11\n",
              "256ssd+2000hdd              10\n",
              "64flash_storage              9\n",
              "16flash_storage              6\n",
              "256flash_storage             5\n",
              "32ssd                        5\n",
              "128flash_storage             4\n",
              "1ssd                         4\n",
              "256ssd+256ssd                2\n",
              "16ssd                        2\n",
              "1000ssd+1000hdd              2\n",
              "512ssd+2000hdd               2\n",
              "128ssd+2000hdd               2\n",
              "512ssd+512ssd                1\n",
              "512ssd+256ssd                1\n",
              "64ssd                        1\n",
              "64flash_storage+1000hdd      1\n",
              "256ssd+500hdd                1\n",
              "1000hdd+1000hdd              1\n",
              "32hdd                        1\n",
              "1000hybrid                   1\n",
              "512flash_storage             1\n",
              "128hdd                       1\n",
              "240ssd                       1\n",
              "8ssd                         1\n",
              "508hybrid                    1\n",
              "Name: storage(GB), dtype: int64"
            ]
          },
          "metadata": {},
          "execution_count": 111
        }
      ]
    },
    {
      "cell_type": "code",
      "source": [
        "# Creates (\\w+) - (Group 1) 1+ letters/digits/underscores\n",
        "storage1 = []\n",
        "storage2 = []\n",
        "\n",
        "for i in df_train['storage(GB)']:\n",
        "    if len(re.findall(r'\\+', i)) == 1: \n",
        "        # Double drive\n",
        "        one = re.findall(r'(\\w+)', i)\n",
        "        storage1.append(one[0])\n",
        "        storage2.append(one[1])\n",
        "    else: \n",
        "        # Single drive\n",
        "        one = re.findall(r'(\\w+)', i)\n",
        "        storage1.append(one[0])\n",
        "        storage2.append('NaN')"
      ],
      "metadata": {
        "id": "_uCSJfevh0lN"
      },
      "execution_count": null,
      "outputs": []
    },
    {
      "cell_type": "code",
      "source": [
        "storage_1 = []\n",
        "storage_2 = []\n",
        "\n",
        "for i in df_test['storage(GB)']:\n",
        "    # finds all the rows which contains a + character \\ helps to identify that this is not a escape sequence or regex pattern.\n",
        "    if(len(re.findall(r'\\+', i)) == 1): \n",
        "        # Double drive\n",
        "        one = re.findall(r'(\\w+)', i)\n",
        "        storage_1.append(one[0])\n",
        "        storage_2.append(one[1])\n",
        "    else: \n",
        "        # Single drive\n",
        "        one = re.findall(r'(\\w+)', i)\n",
        "        storage_1.append(one[0])\n",
        "        storage_2.append('NaN')"
      ],
      "metadata": {
        "id": "vIQwIXdxh0wU"
      },
      "execution_count": null,
      "outputs": []
    },
    {
      "cell_type": "code",
      "source": [
        "storage1_gb = []\n",
        "storage1_type = []\n",
        "for i in storage1:\n",
        "    storage1_gb.append(re.findall(r'(\\d+)', i)[0])\n",
        "    storage1_type.append(re.findall(r'(\\D\\w+)', i)[0])"
      ],
      "metadata": {
        "id": "6W2txOG4h092"
      },
      "execution_count": null,
      "outputs": []
    },
    {
      "cell_type": "code",
      "source": [
        "storage2_gb = []\n",
        "storage2_type = []\n",
        "for i in storage2:\n",
        "    if i != 'NaN':\n",
        "        storage2_type.append(re.findall(r'(\\D\\w+)',i)[0])\n",
        "        storage2_gb.append(re.findall(r'(\\d+)',i)[0])\n",
        "    else:\n",
        "        storage2_type.append('NaN')\n",
        "        storage2_gb.append(0)"
      ],
      "metadata": {
        "id": "PDnoSHWPh0_k"
      },
      "execution_count": null,
      "outputs": []
    },
    {
      "cell_type": "code",
      "source": [
        "storage_1_gb = []\n",
        "storage_1_type = []\n",
        "for i in storage_1:\n",
        "    storage_1_gb.append(re.findall(r'(\\d+)', i)[0])\n",
        "    storage_1_type.append(re.findall(r'(\\D\\w+)', i)[0])"
      ],
      "metadata": {
        "id": "xCGOsqtah1JD"
      },
      "execution_count": null,
      "outputs": []
    },
    {
      "cell_type": "code",
      "source": [
        "storage_2_gb = []\n",
        "storage_2_type = []\n",
        "for i in storage_2:\n",
        "    if i != 'NaN':\n",
        "        storage_2_type.append(re.findall(r'(\\D\\w+)',i)[0])\n",
        "        storage_2_gb.append(re.findall(r'(\\d+)',i)[0])\n",
        "    else:\n",
        "        storage_2_type.append('NaN')\n",
        "        storage_2_gb.append(0)"
      ],
      "metadata": {
        "id": "u4E3YQ6Ch1Kq"
      },
      "execution_count": null,
      "outputs": []
    },
    {
      "cell_type": "code",
      "source": [
        "df_train['storage_1_gb'] = storage1_gb\n",
        "df_train['storage_1_type'] = storage1_type\n",
        "df_train['storage_2_gb'] = storage2_gb\n",
        "df_train['storage_2_type'] = storage2_type"
      ],
      "metadata": {
        "id": "8U7JBNq2h1N7"
      },
      "execution_count": null,
      "outputs": []
    },
    {
      "cell_type": "code",
      "source": [
        "df_test['storage_1_gb'] = storage_1_gb\n",
        "df_test['storage_1_type'] = storage_1_type\n",
        "df_test['storage_2_gb'] = storage_2_gb\n",
        "df_test['storage_2_type'] = storage_2_type"
      ],
      "metadata": {
        "id": "rtfGmodFh1Qo"
      },
      "execution_count": null,
      "outputs": []
    },
    {
      "cell_type": "code",
      "source": [
        "df_train['storage_1_gb'] = df_train['storage_1_gb'].astype(float)\n",
        "df_train['storage_2_gb'] = df_train['storage_2_gb'].astype(float)\n",
        "\n",
        "df_test['storage_1_gb'] = df_test['storage_1_gb'].astype(float)\n",
        "df_test['storage_2_gb'] = df_test['storage_2_gb'].astype(float)"
      ],
      "metadata": {
        "id": "stuHvQ6DqS3u"
      },
      "execution_count": null,
      "outputs": []
    },
    {
      "cell_type": "code",
      "source": [
        "df_train = df_train.drop([' storage','storage(GB)'], axis = 1)\n",
        "df_test = df_test.drop([' storage','storage(GB)'], axis = 1)"
      ],
      "metadata": {
        "id": "U4baMy1NqEdg"
      },
      "execution_count": null,
      "outputs": []
    },
    {
      "cell_type": "code",
      "source": [
        "df_train = df_train.replace({'NaN' : np.nan})\n",
        "df_test = df_test.replace({'NaN' : np.nan})"
      ],
      "metadata": {
        "id": "PuCN-obnsHW7"
      },
      "execution_count": null,
      "outputs": []
    },
    {
      "cell_type": "code",
      "source": [
        "df_train.head()"
      ],
      "metadata": {
        "colab": {
          "base_uri": "https://localhost:8080/",
          "height": 513
        },
        "id": "K6mpNMBdh1S6",
        "outputId": "c13be7ed-7e1d-43a7-b337-0ef55d58dee4"
      },
      "execution_count": null,
      "outputs": [
        {
          "output_type": "execute_result",
          "data": {
            "text/plain": [
              "  manufacturer   model name   category  screen size                   cpu  \\\n",
              "0        Apple  MacBook Pro  Ultrabook         13.3        Intel Core i5    \n",
              "1        Apple  Macbook Air  Ultrabook         13.3        Intel Core i5    \n",
              "2           HP       250 G6   Notebook         15.6  Intel Core i5 7200U    \n",
              "3        Apple  MacBook Pro  Ultrabook         15.4        Intel Core i7    \n",
              "4        Apple  MacBook Pro  Ultrabook         13.3        Intel Core i5    \n",
              "\n",
              "   ram(GB)                           gpu operating system os_version  weight  \\\n",
              "0      8.0  Intel Iris Plus Graphics 640            macOS         10    1.37   \n",
              "1      8.0        Intel HD Graphics 6000            macOS         10    1.34   \n",
              "2      8.0         Intel HD Graphics 620            No OS         10    1.86   \n",
              "3     16.0            AMD Radeon Pro 455            macOS         10    1.83   \n",
              "4      8.0  Intel Iris Plus Graphics 650            macOS         10    1.37   \n",
              "\n",
              "         price resolution            screen_type  touchscreen  cpu_freq(GHz)  \\\n",
              "0  11912523.48  2560x1600  IPSPanelRetinaDisplay          0.0            2.3   \n",
              "1   7993374.48   1440x900                    NaN          0.0            1.8   \n",
              "2   5112900.00  1920x1080                    NaN          0.0            2.5   \n",
              "3  22563005.40  2880x1800  IPSPanelRetinaDisplay          0.0            2.7   \n",
              "4  16037611.20  2560x1600  IPSPanelRetinaDisplay          0.0            3.1   \n",
              "\n",
              "   storage_1_gb storage_1_type  storage_2_gb storage_2_type  \n",
              "0         128.0            ssd           0.0            NaN  \n",
              "1         128.0  flash_storage           0.0            NaN  \n",
              "2         256.0            ssd           0.0            NaN  \n",
              "3         512.0            ssd           0.0            NaN  \n",
              "4         256.0            ssd           0.0            NaN  "
            ],
            "text/html": [
              "\n",
              "  <div id=\"df-d00f77e1-0cdf-409e-b9ac-8ab6178ab559\">\n",
              "    <div class=\"colab-df-container\">\n",
              "      <div>\n",
              "<style scoped>\n",
              "    .dataframe tbody tr th:only-of-type {\n",
              "        vertical-align: middle;\n",
              "    }\n",
              "\n",
              "    .dataframe tbody tr th {\n",
              "        vertical-align: top;\n",
              "    }\n",
              "\n",
              "    .dataframe thead th {\n",
              "        text-align: right;\n",
              "    }\n",
              "</style>\n",
              "<table border=\"1\" class=\"dataframe\">\n",
              "  <thead>\n",
              "    <tr style=\"text-align: right;\">\n",
              "      <th></th>\n",
              "      <th>manufacturer</th>\n",
              "      <th>model name</th>\n",
              "      <th>category</th>\n",
              "      <th>screen size</th>\n",
              "      <th>cpu</th>\n",
              "      <th>ram(GB)</th>\n",
              "      <th>gpu</th>\n",
              "      <th>operating system</th>\n",
              "      <th>os_version</th>\n",
              "      <th>weight</th>\n",
              "      <th>price</th>\n",
              "      <th>resolution</th>\n",
              "      <th>screen_type</th>\n",
              "      <th>touchscreen</th>\n",
              "      <th>cpu_freq(GHz)</th>\n",
              "      <th>storage_1_gb</th>\n",
              "      <th>storage_1_type</th>\n",
              "      <th>storage_2_gb</th>\n",
              "      <th>storage_2_type</th>\n",
              "    </tr>\n",
              "  </thead>\n",
              "  <tbody>\n",
              "    <tr>\n",
              "      <th>0</th>\n",
              "      <td>Apple</td>\n",
              "      <td>MacBook Pro</td>\n",
              "      <td>Ultrabook</td>\n",
              "      <td>13.3</td>\n",
              "      <td>Intel Core i5</td>\n",
              "      <td>8.0</td>\n",
              "      <td>Intel Iris Plus Graphics 640</td>\n",
              "      <td>macOS</td>\n",
              "      <td>10</td>\n",
              "      <td>1.37</td>\n",
              "      <td>11912523.48</td>\n",
              "      <td>2560x1600</td>\n",
              "      <td>IPSPanelRetinaDisplay</td>\n",
              "      <td>0.0</td>\n",
              "      <td>2.3</td>\n",
              "      <td>128.0</td>\n",
              "      <td>ssd</td>\n",
              "      <td>0.0</td>\n",
              "      <td>NaN</td>\n",
              "    </tr>\n",
              "    <tr>\n",
              "      <th>1</th>\n",
              "      <td>Apple</td>\n",
              "      <td>Macbook Air</td>\n",
              "      <td>Ultrabook</td>\n",
              "      <td>13.3</td>\n",
              "      <td>Intel Core i5</td>\n",
              "      <td>8.0</td>\n",
              "      <td>Intel HD Graphics 6000</td>\n",
              "      <td>macOS</td>\n",
              "      <td>10</td>\n",
              "      <td>1.34</td>\n",
              "      <td>7993374.48</td>\n",
              "      <td>1440x900</td>\n",
              "      <td>NaN</td>\n",
              "      <td>0.0</td>\n",
              "      <td>1.8</td>\n",
              "      <td>128.0</td>\n",
              "      <td>flash_storage</td>\n",
              "      <td>0.0</td>\n",
              "      <td>NaN</td>\n",
              "    </tr>\n",
              "    <tr>\n",
              "      <th>2</th>\n",
              "      <td>HP</td>\n",
              "      <td>250 G6</td>\n",
              "      <td>Notebook</td>\n",
              "      <td>15.6</td>\n",
              "      <td>Intel Core i5 7200U</td>\n",
              "      <td>8.0</td>\n",
              "      <td>Intel HD Graphics 620</td>\n",
              "      <td>No OS</td>\n",
              "      <td>10</td>\n",
              "      <td>1.86</td>\n",
              "      <td>5112900.00</td>\n",
              "      <td>1920x1080</td>\n",
              "      <td>NaN</td>\n",
              "      <td>0.0</td>\n",
              "      <td>2.5</td>\n",
              "      <td>256.0</td>\n",
              "      <td>ssd</td>\n",
              "      <td>0.0</td>\n",
              "      <td>NaN</td>\n",
              "    </tr>\n",
              "    <tr>\n",
              "      <th>3</th>\n",
              "      <td>Apple</td>\n",
              "      <td>MacBook Pro</td>\n",
              "      <td>Ultrabook</td>\n",
              "      <td>15.4</td>\n",
              "      <td>Intel Core i7</td>\n",
              "      <td>16.0</td>\n",
              "      <td>AMD Radeon Pro 455</td>\n",
              "      <td>macOS</td>\n",
              "      <td>10</td>\n",
              "      <td>1.83</td>\n",
              "      <td>22563005.40</td>\n",
              "      <td>2880x1800</td>\n",
              "      <td>IPSPanelRetinaDisplay</td>\n",
              "      <td>0.0</td>\n",
              "      <td>2.7</td>\n",
              "      <td>512.0</td>\n",
              "      <td>ssd</td>\n",
              "      <td>0.0</td>\n",
              "      <td>NaN</td>\n",
              "    </tr>\n",
              "    <tr>\n",
              "      <th>4</th>\n",
              "      <td>Apple</td>\n",
              "      <td>MacBook Pro</td>\n",
              "      <td>Ultrabook</td>\n",
              "      <td>13.3</td>\n",
              "      <td>Intel Core i5</td>\n",
              "      <td>8.0</td>\n",
              "      <td>Intel Iris Plus Graphics 650</td>\n",
              "      <td>macOS</td>\n",
              "      <td>10</td>\n",
              "      <td>1.37</td>\n",
              "      <td>16037611.20</td>\n",
              "      <td>2560x1600</td>\n",
              "      <td>IPSPanelRetinaDisplay</td>\n",
              "      <td>0.0</td>\n",
              "      <td>3.1</td>\n",
              "      <td>256.0</td>\n",
              "      <td>ssd</td>\n",
              "      <td>0.0</td>\n",
              "      <td>NaN</td>\n",
              "    </tr>\n",
              "  </tbody>\n",
              "</table>\n",
              "</div>\n",
              "      <button class=\"colab-df-convert\" onclick=\"convertToInteractive('df-d00f77e1-0cdf-409e-b9ac-8ab6178ab559')\"\n",
              "              title=\"Convert this dataframe to an interactive table.\"\n",
              "              style=\"display:none;\">\n",
              "        \n",
              "  <svg xmlns=\"http://www.w3.org/2000/svg\" height=\"24px\"viewBox=\"0 0 24 24\"\n",
              "       width=\"24px\">\n",
              "    <path d=\"M0 0h24v24H0V0z\" fill=\"none\"/>\n",
              "    <path d=\"M18.56 5.44l.94 2.06.94-2.06 2.06-.94-2.06-.94-.94-2.06-.94 2.06-2.06.94zm-11 1L8.5 8.5l.94-2.06 2.06-.94-2.06-.94L8.5 2.5l-.94 2.06-2.06.94zm10 10l.94 2.06.94-2.06 2.06-.94-2.06-.94-.94-2.06-.94 2.06-2.06.94z\"/><path d=\"M17.41 7.96l-1.37-1.37c-.4-.4-.92-.59-1.43-.59-.52 0-1.04.2-1.43.59L10.3 9.45l-7.72 7.72c-.78.78-.78 2.05 0 2.83L4 21.41c.39.39.9.59 1.41.59.51 0 1.02-.2 1.41-.59l7.78-7.78 2.81-2.81c.8-.78.8-2.07 0-2.86zM5.41 20L4 18.59l7.72-7.72 1.47 1.35L5.41 20z\"/>\n",
              "  </svg>\n",
              "      </button>\n",
              "      \n",
              "  <style>\n",
              "    .colab-df-container {\n",
              "      display:flex;\n",
              "      flex-wrap:wrap;\n",
              "      gap: 12px;\n",
              "    }\n",
              "\n",
              "    .colab-df-convert {\n",
              "      background-color: #E8F0FE;\n",
              "      border: none;\n",
              "      border-radius: 50%;\n",
              "      cursor: pointer;\n",
              "      display: none;\n",
              "      fill: #1967D2;\n",
              "      height: 32px;\n",
              "      padding: 0 0 0 0;\n",
              "      width: 32px;\n",
              "    }\n",
              "\n",
              "    .colab-df-convert:hover {\n",
              "      background-color: #E2EBFA;\n",
              "      box-shadow: 0px 1px 2px rgba(60, 64, 67, 0.3), 0px 1px 3px 1px rgba(60, 64, 67, 0.15);\n",
              "      fill: #174EA6;\n",
              "    }\n",
              "\n",
              "    [theme=dark] .colab-df-convert {\n",
              "      background-color: #3B4455;\n",
              "      fill: #D2E3FC;\n",
              "    }\n",
              "\n",
              "    [theme=dark] .colab-df-convert:hover {\n",
              "      background-color: #434B5C;\n",
              "      box-shadow: 0px 1px 3px 1px rgba(0, 0, 0, 0.15);\n",
              "      filter: drop-shadow(0px 1px 2px rgba(0, 0, 0, 0.3));\n",
              "      fill: #FFFFFF;\n",
              "    }\n",
              "  </style>\n",
              "\n",
              "      <script>\n",
              "        const buttonEl =\n",
              "          document.querySelector('#df-d00f77e1-0cdf-409e-b9ac-8ab6178ab559 button.colab-df-convert');\n",
              "        buttonEl.style.display =\n",
              "          google.colab.kernel.accessAllowed ? 'block' : 'none';\n",
              "\n",
              "        async function convertToInteractive(key) {\n",
              "          const element = document.querySelector('#df-d00f77e1-0cdf-409e-b9ac-8ab6178ab559');\n",
              "          const dataTable =\n",
              "            await google.colab.kernel.invokeFunction('convertToInteractive',\n",
              "                                                     [key], {});\n",
              "          if (!dataTable) return;\n",
              "\n",
              "          const docLinkHtml = 'Like what you see? Visit the ' +\n",
              "            '<a target=\"_blank\" href=https://colab.research.google.com/notebooks/data_table.ipynb>data table notebook</a>'\n",
              "            + ' to learn more about interactive tables.';\n",
              "          element.innerHTML = '';\n",
              "          dataTable['output_type'] = 'display_data';\n",
              "          await google.colab.output.renderOutput(dataTable, element);\n",
              "          const docLink = document.createElement('div');\n",
              "          docLink.innerHTML = docLinkHtml;\n",
              "          element.appendChild(docLink);\n",
              "        }\n",
              "      </script>\n",
              "    </div>\n",
              "  </div>\n",
              "  "
            ]
          },
          "metadata": {},
          "execution_count": 126
        }
      ]
    },
    {
      "cell_type": "code",
      "source": [
        "df_train['cpu_brand'] = df_train['cpu'].str.extract(r'^(\\w+)')\n",
        "df_test['cpu_brand'] = df_test['cpu'].str.extract(r'^(\\w+)')"
      ],
      "metadata": {
        "id": "aoZ6yS1irmjL"
      },
      "execution_count": null,
      "outputs": []
    },
    {
      "cell_type": "code",
      "source": [
        "df_train['cpu_brand'].value_counts()"
      ],
      "metadata": {
        "colab": {
          "base_uri": "https://localhost:8080/"
        },
        "id": "KhfTUHwNrmqM",
        "outputId": "01cbc5a6-444a-4ea0-b032-31b5456fd644"
      },
      "execution_count": null,
      "outputs": [
        {
          "output_type": "execute_result",
          "data": {
            "text/plain": [
              "Intel    929\n",
              "AMD       48\n",
              "Name: cpu_brand, dtype: int64"
            ]
          },
          "metadata": {},
          "execution_count": 128
        }
      ]
    },
    {
      "cell_type": "code",
      "source": [
        "df_test['cpu_brand'].value_counts()"
      ],
      "metadata": {
        "colab": {
          "base_uri": "https://localhost:8080/"
        },
        "id": "n1Tb1FgRrmwH",
        "outputId": "f26da8ec-114b-47ef-c65e-5c79bfa0bf8f"
      },
      "execution_count": null,
      "outputs": [
        {
          "output_type": "execute_result",
          "data": {
            "text/plain": [
              "Intel      310\n",
              "AMD         14\n",
              "Samsung      1\n",
              "Name: cpu_brand, dtype: int64"
            ]
          },
          "metadata": {},
          "execution_count": 129
        }
      ]
    },
    {
      "cell_type": "code",
      "source": [
        "df_train['gpu_brand'] = df_train['gpu'].str.extract(r'^(\\w+)')\n",
        "df_test['gpu_brand'] = df_test['gpu'].str.extract(r'^(\\w+)')"
      ],
      "metadata": {
        "id": "TJw-GRgwrmz6"
      },
      "execution_count": null,
      "outputs": []
    },
    {
      "cell_type": "code",
      "source": [
        "df_train['gpu_brand'].value_counts()"
      ],
      "metadata": {
        "colab": {
          "base_uri": "https://localhost:8080/"
        },
        "id": "e-U7wQjorm5m",
        "outputId": "0d9b70b8-e8bd-44ef-bf5e-acd252231755"
      },
      "execution_count": null,
      "outputs": [
        {
          "output_type": "execute_result",
          "data": {
            "text/plain": [
              "Intel     525\n",
              "Nvidia    310\n",
              "AMD       142\n",
              "Name: gpu_brand, dtype: int64"
            ]
          },
          "metadata": {},
          "execution_count": 131
        }
      ]
    },
    {
      "cell_type": "code",
      "source": [
        "df_test['gpu_brand'].value_counts()"
      ],
      "metadata": {
        "colab": {
          "base_uri": "https://localhost:8080/"
        },
        "id": "Pd27gvQSrm_G",
        "outputId": "9e846d7f-8bdc-4903-8edc-8684b5ef343d"
      },
      "execution_count": null,
      "outputs": [
        {
          "output_type": "execute_result",
          "data": {
            "text/plain": [
              "Intel     197\n",
              "Nvidia     89\n",
              "AMD        38\n",
              "ARM         1\n",
              "Name: gpu_brand, dtype: int64"
            ]
          },
          "metadata": {},
          "execution_count": 132
        }
      ]
    },
    {
      "cell_type": "code",
      "source": [
        "df_train.info()"
      ],
      "metadata": {
        "colab": {
          "base_uri": "https://localhost:8080/"
        },
        "id": "A640dIn2rnF2",
        "outputId": "332b70ba-f552-4537-bb20-95f95d329cea"
      },
      "execution_count": null,
      "outputs": [
        {
          "output_type": "stream",
          "name": "stdout",
          "text": [
            "<class 'pandas.core.frame.DataFrame'>\n",
            "RangeIndex: 977 entries, 0 to 976\n",
            "Data columns (total 22 columns):\n",
            " #   Column            Non-Null Count  Dtype  \n",
            "---  ------            --------------  -----  \n",
            " 0   manufacturer      977 non-null    object \n",
            " 1   model name        977 non-null    object \n",
            " 2   category          977 non-null    object \n",
            " 3   screen size       977 non-null    float64\n",
            " 4   cpu               977 non-null    object \n",
            " 5   ram(GB)           977 non-null    float64\n",
            " 6   gpu               977 non-null    object \n",
            " 7   operating system  977 non-null    object \n",
            " 8   os_version        977 non-null    object \n",
            " 9   weight            977 non-null    float64\n",
            " 10  price             977 non-null    float64\n",
            " 11  resolution        977 non-null    object \n",
            " 12  screen_type       280 non-null    object \n",
            " 13  touchscreen       977 non-null    float64\n",
            " 14  cpu_freq(GHz)     977 non-null    float64\n",
            " 15  storage_1_gb      977 non-null    float64\n",
            " 16  storage_1_type    977 non-null    object \n",
            " 17  storage_2_gb      977 non-null    float64\n",
            " 18  storage_2_type    159 non-null    object \n",
            " 19  cpu_brand         977 non-null    object \n",
            " 20  gpu_brand         977 non-null    object \n",
            " 21  cpu_group         977 non-null    int64  \n",
            "dtypes: float64(8), int64(1), object(13)\n",
            "memory usage: 168.0+ KB\n"
          ]
        }
      ]
    },
    {
      "cell_type": "code",
      "source": [
        "print(df_train.groupby(['model name','cpu','gpu','weight'])['price'].transform('median'))"
      ],
      "metadata": {
        "colab": {
          "base_uri": "https://localhost:8080/"
        },
        "id": "Qu_0jfwDrnIU",
        "outputId": "b2e55f22-bc69-421c-97fe-d058b42d9df0"
      },
      "execution_count": null,
      "outputs": [
        {
          "output_type": "stream",
          "name": "stdout",
          "text": [
            "0      12707735.04\n",
            "1       9148267.44\n",
            "2       5112900.00\n",
            "3      22563005.40\n",
            "4      17088645.60\n",
            "          ...     \n",
            "972    24897600.00\n",
            "973    10492560.00\n",
            "974    18227710.80\n",
            "975     8305128.00\n",
            "976     8909784.00\n",
            "Name: price, Length: 977, dtype: float64\n"
          ]
        }
      ]
    },
    {
      "cell_type": "code",
      "source": [
        "df_train.groupby(['model name'])['weight'].transform('median')"
      ],
      "metadata": {
        "colab": {
          "base_uri": "https://localhost:8080/"
        },
        "id": "q1MNmDRMrnMw",
        "outputId": "f8e0f7c9-1451-42e7-edfd-c08d7600317c"
      },
      "execution_count": null,
      "outputs": [
        {
          "output_type": "execute_result",
          "data": {
            "text/plain": [
              "0      1.37\n",
              "1      1.34\n",
              "2      1.86\n",
              "3      1.37\n",
              "4      1.37\n",
              "       ... \n",
              "972    4.42\n",
              "973    1.95\n",
              "974    3.20\n",
              "975    2.04\n",
              "976    1.70\n",
              "Name: weight, Length: 977, dtype: float64"
            ]
          },
          "metadata": {},
          "execution_count": 161
        }
      ]
    },
    {
      "cell_type": "code",
      "source": [
        "df_train['cpu_avg'] = df_train.groupby(['cpu'])['price'].transform('median').round(2)\n",
        "df_train['gpu_avg'] = df_train.groupby(['gpu'])['price'].transform('median').round(2)\n",
        "\n",
        "df_test['cpu_avg'] = df_test.groupby(['cpu'])['price'].transform('median').round(2)\n",
        "df_test['gpu_avg'] = df_test.groupby(['gpu'])['price'].transform('median').round(2)"
      ],
      "metadata": {
        "id": "rpFghZC6rnPL"
      },
      "execution_count": null,
      "outputs": []
    },
    {
      "cell_type": "code",
      "source": [
        "def group(value):\n",
        "    if(value >= 25000000):\n",
        "        return 0\n",
        "    elif(value >= 20000000  and value < 25000000):\n",
        "        return 1\n",
        "    elif(value >= 15000000  and value < 20000000):\n",
        "        return 2\n",
        "    elif(value >= 10000000  and value < 15000000):\n",
        "        return 3\n",
        "    else:\n",
        "        return 4"
      ],
      "metadata": {
        "id": "q6k9e-8cNgUS"
      },
      "execution_count": null,
      "outputs": []
    },
    {
      "cell_type": "code",
      "source": [
        "df_train['cpu_group'] = df_train.apply(lambda x: group(x['cpu_avg']),axis=1)\n",
        "df_train['gpu_group'] = df_train.apply(lambda x: group(x['gpu_avg']),axis=1)"
      ],
      "metadata": {
        "id": "qrrILOmNNgDM"
      },
      "execution_count": null,
      "outputs": []
    },
    {
      "cell_type": "code",
      "source": [
        "df_test['cpu_group'] = df_test.apply(lambda x: group(x['cpu_avg']),axis=1)\n",
        "df_test['gpu_group'] = df_test.apply(lambda x: group(x['gpu_avg']),axis=1)"
      ],
      "metadata": {
        "id": "5pLa3HPuNf8l"
      },
      "execution_count": null,
      "outputs": []
    },
    {
      "cell_type": "code",
      "source": [
        "df_train = df_train.drop(['cpu_avg', 'gpu_avg'], axis = 1)\n",
        "df_test = df_test.drop(['cpu_avg', 'gpu_avg'], axis = 1)"
      ],
      "metadata": {
        "id": "TKYo2uhoNf3-"
      },
      "execution_count": null,
      "outputs": []
    },
    {
      "cell_type": "code",
      "source": [
        "df_train.info()"
      ],
      "metadata": {
        "colab": {
          "base_uri": "https://localhost:8080/"
        },
        "id": "KswrEr80Nfz3",
        "outputId": "e50e7f94-bb5c-4932-de12-24f58fb4fbe6"
      },
      "execution_count": null,
      "outputs": [
        {
          "output_type": "stream",
          "name": "stdout",
          "text": [
            "<class 'pandas.core.frame.DataFrame'>\n",
            "RangeIndex: 977 entries, 0 to 976\n",
            "Data columns (total 23 columns):\n",
            " #   Column            Non-Null Count  Dtype  \n",
            "---  ------            --------------  -----  \n",
            " 0   manufacturer      977 non-null    object \n",
            " 1   model name        977 non-null    object \n",
            " 2   category          977 non-null    object \n",
            " 3   screen size       977 non-null    float64\n",
            " 4   cpu               977 non-null    object \n",
            " 5   ram(GB)           977 non-null    float64\n",
            " 6   gpu               977 non-null    object \n",
            " 7   operating system  977 non-null    object \n",
            " 8   os_version        977 non-null    object \n",
            " 9   weight            977 non-null    float64\n",
            " 10  price             977 non-null    float64\n",
            " 11  resolution        977 non-null    object \n",
            " 12  screen_type       280 non-null    object \n",
            " 13  touchscreen       977 non-null    float64\n",
            " 14  cpu_freq(GHz)     977 non-null    float64\n",
            " 15  storage_1_gb      977 non-null    float64\n",
            " 16  storage_1_type    977 non-null    object \n",
            " 17  storage_2_gb      977 non-null    float64\n",
            " 18  storage_2_type    159 non-null    object \n",
            " 19  cpu_brand         977 non-null    object \n",
            " 20  gpu_brand         977 non-null    object \n",
            " 21  cpu_group         977 non-null    int64  \n",
            " 22  gpu_group         977 non-null    int64  \n",
            "dtypes: float64(8), int64(2), object(13)\n",
            "memory usage: 175.7+ KB\n"
          ]
        }
      ]
    },
    {
      "cell_type": "code",
      "source": [
        "df_train['model_avg'] = df_train.groupby(['manufacturer','model name','category','weight'])['price'].transform('median').round(2)\n",
        "df_test['model_avg'] = df_test.groupby(['manufacturer','model name','category','weight'])['price'].transform('median').round(2)"
      ],
      "metadata": {
        "id": "oNJRCWdUNfuK"
      },
      "execution_count": null,
      "outputs": []
    },
    {
      "cell_type": "code",
      "source": [
        "df_train['model_group'] = df_train.apply(lambda x: group(x['model_avg']),axis=1)\n",
        "df_test['model_group'] = df_test.apply(lambda x: group(x['model_avg']),axis=1)"
      ],
      "metadata": {
        "id": "5jvEaVXWNfnK"
      },
      "execution_count": null,
      "outputs": []
    },
    {
      "cell_type": "code",
      "source": [
        "df_train = df_train.drop(['model_avg'],axis=1)\n",
        "df_test = df_test.drop(['model_avg'],axis=1)"
      ],
      "metadata": {
        "id": "VWUYjVM9rnT7"
      },
      "execution_count": null,
      "outputs": []
    },
    {
      "cell_type": "code",
      "source": [
        "pd.set_display(all_columns=True)\n",
        "df_train.head()"
      ],
      "metadata": {
        "colab": {
          "base_uri": "https://localhost:8080/",
          "height": 183
        },
        "id": "7ohjba5aqEna",
        "outputId": "cffa4712-81b4-43a3-ecf7-ee4e6be32507"
      },
      "execution_count": null,
      "outputs": [
        {
          "output_type": "error",
          "ename": "NameError",
          "evalue": "ignored",
          "traceback": [
            "\u001b[0;31m---------------------------------------------------------------------------\u001b[0m",
            "\u001b[0;31mNameError\u001b[0m                                 Traceback (most recent call last)",
            "\u001b[0;32m<ipython-input-1-becb7ed65f6a>\u001b[0m in \u001b[0;36m<cell line: 1>\u001b[0;34m()\u001b[0m\n\u001b[0;32m----> 1\u001b[0;31m \u001b[0mpd\u001b[0m\u001b[0;34m.\u001b[0m\u001b[0mset_display\u001b[0m\u001b[0;34m(\u001b[0m\u001b[0mall_columns\u001b[0m\u001b[0;34m=\u001b[0m\u001b[0;32mTrue\u001b[0m\u001b[0;34m)\u001b[0m\u001b[0;34m\u001b[0m\u001b[0;34m\u001b[0m\u001b[0m\n\u001b[0m\u001b[1;32m      2\u001b[0m \u001b[0mdf_train\u001b[0m\u001b[0;34m.\u001b[0m\u001b[0mhead\u001b[0m\u001b[0;34m(\u001b[0m\u001b[0;34m)\u001b[0m\u001b[0;34m\u001b[0m\u001b[0;34m\u001b[0m\u001b[0m\n",
            "\u001b[0;31mNameError\u001b[0m: name 'pd' is not defined"
          ]
        }
      ]
    },
    {
      "cell_type": "code",
      "source": [
        "plt.figure(figsize = (15, 10))\n",
        "\n",
        "plt.subplot(2, 2, 1)\n",
        "plt.gca().set_title('Category')\n",
        "sns.countplot(x = 'category', palette = 'Set1', data = df_train)\n",
        "\n",
        "plt.subplot(2, 2, 2)\n",
        "plt.gca().set_title('Ram Size')\n",
        "sns.countplot(x = 'ram(GB)', palette = 'Set2', data = df_train)\n",
        "\n",
        "plt.subplot(2, 2, 3)\n",
        "plt.gca().set_title('Variable Operating System Version')\n",
        "sns.countplot(x = 'os_version', palette = 'Set3', data = df_train)\n",
        "\n",
        "plt.subplot(2, 2, 4)\n",
        "plt.gca().set_title('Variable Operating System')\n",
        "sns.countplot(x = 'operating system', palette = 'Set1', data = df_train)\n",
        "plt.show()"
      ],
      "metadata": {
        "colab": {
          "base_uri": "https://localhost:8080/",
          "height": 605
        },
        "id": "nY6vkYh6qEyA",
        "outputId": "7a61e38f-8cd6-4ae1-9b17-ce6026aca38c"
      },
      "execution_count": null,
      "outputs": [
        {
          "output_type": "display_data",
          "data": {
            "text/plain": [
              "<Figure size 1500x1000 with 4 Axes>"
            ],
            "image/png": "[encoded data removed]"
          },
          "metadata": {}
        }
      ]
    },
    {
      "cell_type": "code",
      "source": [
        "plt.figure(figsize = (15, 10))\n",
        "\n",
        "plt.subplot(2, 1, 1)\n",
        "plt.gca().set_title('Manufacturer Type')\n",
        "sns.countplot(x = 'manufacturer', palette = 'Set1', data = df_train)\n",
        "\n",
        "plt.subplot(2, 1, 2)\n",
        "plt.gca().set_title('Variable Screen Size')\n",
        "sns.countplot(x = 'screen size', palette = 'Set2', data = df_train)\n",
        "plt.show()"
      ],
      "metadata": {
        "colab": {
          "base_uri": "https://localhost:8080/",
          "height": 892
        },
        "id": "MkNfBUTjqE9I",
        "outputId": "fd2ecae8-38d0-4754-8a83-7d56b16c4dbe"
      },
      "execution_count": null,
      "outputs": [
        {
          "output_type": "display_data",
          "data": {
            "text/plain": [
              "<Figure size 1500x1000 with 2 Axes>"
            ],
            "image/png": "[encoded data removed]"
          },
          "metadata": {}
        }
      ]
    },
    {
      "cell_type": "code",
      "source": [
        "screen = df_train[['screen_type','manufacturer']].groupby('screen_type').agg('count').sort_values('manufacturer', ascending=False).reset_index()\n",
        "sns.barplot(data=screen.head(10), x=\"manufacturer\", y=\"screen_type\")\n",
        "plt.show()"
      ],
      "metadata": {
        "colab": {
          "base_uri": "https://localhost:8080/",
          "height": 449
        },
        "id": "1CfXxAv4Zm73",
        "outputId": "59ad492b-0d42-4179-c14a-172781d1c6fe"
      },
      "execution_count": null,
      "outputs": [
        {
          "output_type": "display_data",
          "data": {
            "text/plain": [
              "<Figure size 640x480 with 1 Axes>"
            ],
            "image/png": "[encoded data removed]"
          },
          "metadata": {}
        }
      ]
    },
    {
      "cell_type": "code",
      "source": [
        "cpu = df_train[['cpu','manufacturer']].groupby('cpu').agg('count').sort_values('manufacturer', ascending=False).reset_index()\n",
        "sns.barplot(data=cpu.head(10), x=\"manufacturer\", y=\"cpu\")\n",
        "plt.show()"
      ],
      "metadata": {
        "colab": {
          "base_uri": "https://localhost:8080/",
          "height": 449
        },
        "id": "1W5G7bdjZmxg",
        "outputId": "f0492ae1-a3f8-45e4-f676-ad9a860b9016"
      },
      "execution_count": null,
      "outputs": [
        {
          "output_type": "display_data",
          "data": {
            "text/plain": [
              "<Figure size 640x480 with 1 Axes>"
            ],
            "image/png": "[encoded data removed]"
          },
          "metadata": {}
        }
      ]
    },
    {
      "cell_type": "code",
      "source": [
        "plt.figure(figsize = (15,10))\n",
        "\n",
        "sns.set(color_codes = True)\n",
        "\n",
        "plt.subplot(2,1,1)\n",
        "sns.histplot(df_train['weight'], kde = False)\n",
        "\n",
        "plt.subplot(2,1,2)\n",
        "sns.histplot(df_train['price'], kde = False)\n",
        "plt.show()"
      ],
      "metadata": {
        "colab": {
          "base_uri": "https://localhost:8080/",
          "height": 595
        },
        "id": "C1ih6Z_EZmk8",
        "outputId": "ad83ae87-9480-4181-ef48-9dc568ccd8b1"
      },
      "execution_count": null,
      "outputs": [
        {
          "output_type": "display_data",
          "data": {
            "text/plain": [
              "<Figure size 1500x1000 with 2 Axes>"
            ],
            "image/png": "[encoded data removed]"
          },
          "metadata": {}
        }
      ]
    },
    {
      "cell_type": "code",
      "source": [
        "df_train.to_csv('laptop-clean-train.csv', index = False)\n",
        "df_test.to_csv('laptop-clean-test.csv', index = False)"
      ],
      "metadata": {
        "id": "--l5teCMZmcq"
      },
      "execution_count": null,
      "outputs": []
    },
    {
      "cell_type": "code",
      "source": [
        "fig, ax  = plt.subplots(figsize = (15,10))\n",
        "ax=sns.countplot(x = 'category', data = df_train, palette = 'mako_r', order = df_train['category'].value_counts().index)\n",
        "ax.set_xticklabels(ax.get_xticklabels(), rotation = 80);\n",
        "ax.bar_label(ax.containers[0])\n",
        "plt.title('Laptop types')\n",
        "plt.show()"
      ],
      "metadata": {
        "colab": {
          "base_uri": "https://localhost:8080/",
          "height": 694
        },
        "id": "UiMtP9qQZmXr",
        "outputId": "d0d134e0-b878-4176-bb5a-5aa65e801349"
      },
      "execution_count": null,
      "outputs": [
        {
          "output_type": "display_data",
          "data": {
            "text/plain": [
              "<Figure size 1500x1000 with 1 Axes>"
            ],
            "image/png": "[encoded data removed]"
          },
          "metadata": {}
        }
      ]
    },
    {
      "cell_type": "code",
      "source": [
        "plt.title(\"Boxplot Weight\", fontdict = {'fontsize': 10})\n",
        "sns.boxplot(x=df_train[\"weight\"])\n",
        "plt.show()"
      ],
      "metadata": {
        "colab": {
          "base_uri": "https://localhost:8080/",
          "height": 477
        },
        "id": "W0vV7bSWc0LS",
        "outputId": "56eafe9c-4120-417d-9499-00020cef65d0"
      },
      "execution_count": null,
      "outputs": [
        {
          "output_type": "display_data",
          "data": {
            "text/plain": [
              "<Figure size 640x480 with 1 Axes>"
            ],
            "image/png": "[encoded data removed]"
          },
          "metadata": {}
        }
      ]
    },
    {
      "cell_type": "code",
      "source": [
        "plt.title(\"Boxplot Price\", fontdict = {'fontsize': 10})\n",
        "sns.boxplot(x=df_train[\"price\"])\n",
        "plt.show()"
      ],
      "metadata": {
        "colab": {
          "base_uri": "https://localhost:8080/",
          "height": 477
        },
        "id": "wxh-LvZ8dYQP",
        "outputId": "e7e6a877-64ab-42f8-e7ef-dcadcee72d3c"
      },
      "execution_count": null,
      "outputs": [
        {
          "output_type": "display_data",
          "data": {
            "text/plain": [
              "<Figure size 640x480 with 1 Axes>"
            ],
            "image/png": "[encoded data removed]"
          },
          "metadata": {}
        }
      ]
    },
    {
      "cell_type": "code",
      "source": [
        "plt.figure(figsize = (20, 15))\n",
        "plt.suptitle(\"Analysis Of Variable Price\",fontweight=\"bold\", fontsize=20)\n",
        "\n",
        "ax1 = plt.subplot(2,1,1)\n",
        "sns.boxplot(x=\"manufacturer\", y=\"price\", data=df_train)\n",
        "\n",
        "plt.subplot(2,1,2)\n",
        "sns.boxplot(x=\"screen size\", y=\"price\", data=df_train)"
      ],
      "metadata": {
        "colab": {
          "base_uri": "https://localhost:8080/",
          "height": 765
        },
        "id": "R8ijDpeFdYMl",
        "outputId": "09c60e8d-35eb-4f9a-9e0b-6b5b708ae554"
      },
      "execution_count": null,
      "outputs": [
        {
          "output_type": "execute_result",
          "data": {
            "text/plain": [
              "<Axes: xlabel='screen size', ylabel='price'>"
            ]
          },
          "metadata": {},
          "execution_count": 211
        },
        {
          "output_type": "display_data",
          "data": {
            "text/plain": [
              "<Figure size 2000x1500 with 2 Axes>"
            ],
            "image/png": "[encoded data removed]"
          },
          "metadata": {}
        }
      ]
    },
    {
      "cell_type": "code",
      "source": [
        "sns.scatterplot(data=df_train, x=\"weight\", y=\"price\")\n",
        "plt.show()"
      ],
      "metadata": {
        "colab": {
          "base_uri": "https://localhost:8080/",
          "height": 474
        },
        "id": "QyoGkYjSdYJP",
        "outputId": "ba6c671e-4be8-4ff8-b675-8f97bbc56988"
      },
      "execution_count": null,
      "outputs": [
        {
          "output_type": "display_data",
          "data": {
            "text/plain": [
              "<Figure size 640x480 with 1 Axes>"
            ],
            "image/png": "[encoded data removed]"
          },
          "metadata": {}
        }
      ]
    },
    {
      "cell_type": "code",
      "source": [
        "label_encoder_manufacturer = LabelEncoder()\n",
        "label_encoder_category = LabelEncoder()\n",
        "label_encoder_screen_size = LabelEncoder()\n",
        "label_encoder_ram = LabelEncoder()\n",
        "label_encoder_storage = LabelEncoder()\n",
        "label_encoder_operating_system = LabelEncoder()\n",
        "label_encoder_operating_system_version = LabelEncoder()\n",
        "label_encoder_cpu_brand = LabelEncoder()\n",
        "label_encoder_gpu_brand = LabelEncoder()"
      ],
      "metadata": {
        "id": "DA27K8dFdYFj"
      },
      "execution_count": null,
      "outputs": []
    },
    {
      "cell_type": "code",
      "source": [
        "# df_train['manufacturer'] = label_encoder_manufacturer.fit(df_train['manufacturer'])\n",
        "# df_train['category'] = label_encoder_category.fit(df_train['category'])\n",
        "# df_train['screen size'] = label_encoder_screen_size.fit(df_train['screen size'])\n",
        "# df_train['ram(GB)'] = label_encoder_ram.fit(df_train['ram(GB)'])\n",
        "# df_train['storage_1_type'] = label_encoder_storage.fit(df_train['storage_1_type'])\n",
        "# df_train['storage_2_type'] = label_encoder_storage.fit(df_train['storage_2_type'])\n",
        "# df_train['operating system'] = label_encoder_operating_system.fit(df_train['operating system'])\n",
        "# df_train['os_version'] = label_encoder_operating_system_version.fit(df_train['os_version'])\n",
        "df_train['cpu_brand'] = label_encoder_cpu_brand.fit_transform(df_train['cpu_brand'])\n",
        "df_train['gpu_brand'] = label_encoder_gpu_brand.fit_transform(df_train['gpu_brand'])\n",
        "\n",
        "# df_test['manufacturer'] = label_encoder_manufacturer.transform(df_test['manufacturer'])\n",
        "# df_test['category'] = label_encoder_category.transform(df_test['category'])\n",
        "# df_test['screen size'] = label_encoder_screen_size.transform(df_test['screen size'])\n",
        "# df_test['ram(GB)'] = label_encoder_ram.transform(df_test['ram(GB)'])\n",
        "# df_test['storage_1_type'] = label_encoder_storage.transform(df_test['storage_1_type'])\n",
        "# df_test['storage_2_type'] = label_encoder_storage.transform(df_test['storage_2_type'])\n",
        "# df_test['operating system'] = label_encoder_operating_system.transform(df_test['operating system'])\n",
        "# df_test['os_version'] = label_encoder_operating_system_version.transform(df_test['os_version'])\n",
        "df_test['cpu_brand'] = label_encoder_cpu_brand.fit_transform(df_test['cpu_brand'])\n",
        "df_test['gpu_brand'] = label_encoder_gpu_brand.fit_transform(df_test['gpu_brand'])"
      ],
      "metadata": {
        "id": "nGJq5m4ZdYCc"
      },
      "execution_count": null,
      "outputs": []
    },
    {
      "cell_type": "code",
      "source": [
        "df_train.head()"
      ],
      "metadata": {
        "colab": {
          "base_uri": "https://localhost:8080/",
          "height": 542
        },
        "id": "KQND3TxmdX-2",
        "outputId": "c9d66298-a3ad-4bf8-a7f5-0294a6b8fe55"
      },
      "execution_count": null,
      "outputs": [
        {
          "output_type": "execute_result",
          "data": {
            "text/plain": [
              "     manufacturer   model name        category     screen size  \\\n",
              "0  LabelEncoder()  MacBook Pro  LabelEncoder()  LabelEncoder()   \n",
              "1  LabelEncoder()  Macbook Air  LabelEncoder()  LabelEncoder()   \n",
              "2  LabelEncoder()       250 G6  LabelEncoder()  LabelEncoder()   \n",
              "3  LabelEncoder()  MacBook Pro  LabelEncoder()  LabelEncoder()   \n",
              "4  LabelEncoder()  MacBook Pro  LabelEncoder()  LabelEncoder()   \n",
              "\n",
              "                    cpu         ram(GB)                           gpu  \\\n",
              "0        Intel Core i5   LabelEncoder()  Intel Iris Plus Graphics 640   \n",
              "1        Intel Core i5   LabelEncoder()        Intel HD Graphics 6000   \n",
              "2  Intel Core i5 7200U   LabelEncoder()         Intel HD Graphics 620   \n",
              "3        Intel Core i7   LabelEncoder()            AMD Radeon Pro 455   \n",
              "4        Intel Core i5   LabelEncoder()  Intel Iris Plus Graphics 650   \n",
              "\n",
              "  operating system      os_version  weight  ...  cpu_freq(GHz) storage_1_gb  \\\n",
              "0   LabelEncoder()  LabelEncoder()    1.37  ...            2.3        128.0   \n",
              "1   LabelEncoder()  LabelEncoder()    1.34  ...            1.8        128.0   \n",
              "2   LabelEncoder()  LabelEncoder()    1.86  ...            2.5        256.0   \n",
              "3   LabelEncoder()  LabelEncoder()    1.83  ...            2.7        512.0   \n",
              "4   LabelEncoder()  LabelEncoder()    1.37  ...            3.1        256.0   \n",
              "\n",
              "   storage_1_type  storage_2_gb  storage_2_type       cpu_brand  \\\n",
              "0  LabelEncoder()           0.0  LabelEncoder()  LabelEncoder()   \n",
              "1  LabelEncoder()           0.0  LabelEncoder()  LabelEncoder()   \n",
              "2  LabelEncoder()           0.0  LabelEncoder()  LabelEncoder()   \n",
              "3  LabelEncoder()           0.0  LabelEncoder()  LabelEncoder()   \n",
              "4  LabelEncoder()           0.0  LabelEncoder()  LabelEncoder()   \n",
              "\n",
              "        gpu_brand  cpu_group gpu_group model_group  \n",
              "0  LabelEncoder()          3         2           3  \n",
              "1  LabelEncoder()          3         4           4  \n",
              "2  LabelEncoder()          4         4           4  \n",
              "3  LabelEncoder()          1         1           1  \n",
              "4  LabelEncoder()          3         2           3  \n",
              "\n",
              "[5 rows x 24 columns]"
            ],
            "text/html": [
              "\n",
              "  <div id=\"df-047a9ba9-a97d-43c4-a14d-837c88e259d9\">\n",
              "    <div class=\"colab-df-container\">\n",
              "      <div>\n",
              "<style scoped>\n",
              "    .dataframe tbody tr th:only-of-type {\n",
              "        vertical-align: middle;\n",
              "    }\n",
              "\n",
              "    .dataframe tbody tr th {\n",
              "        vertical-align: top;\n",
              "    }\n",
              "\n",
              "    .dataframe thead th {\n",
              "        text-align: right;\n",
              "    }\n",
              "</style>\n",
              "<table border=\"1\" class=\"dataframe\">\n",
              "  <thead>\n",
              "    <tr style=\"text-align: right;\">\n",
              "      <th></th>\n",
              "      <th>manufacturer</th>\n",
              "      <th>model name</th>\n",
              "      <th>category</th>\n",
              "      <th>screen size</th>\n",
              "      <th>cpu</th>\n",
              "      <th>ram(GB)</th>\n",
              "      <th>gpu</th>\n",
              "      <th>operating system</th>\n",
              "      <th>os_version</th>\n",
              "      <th>weight</th>\n",
              "      <th>...</th>\n",
              "      <th>cpu_freq(GHz)</th>\n",
              "      <th>storage_1_gb</th>\n",
              "      <th>storage_1_type</th>\n",
              "      <th>storage_2_gb</th>\n",
              "      <th>storage_2_type</th>\n",
              "      <th>cpu_brand</th>\n",
              "      <th>gpu_brand</th>\n",
              "      <th>cpu_group</th>\n",
              "      <th>gpu_group</th>\n",
              "      <th>model_group</th>\n",
              "    </tr>\n",
              "  </thead>\n",
              "  <tbody>\n",
              "    <tr>\n",
              "      <th>0</th>\n",
              "      <td>LabelEncoder()</td>\n",
              "      <td>MacBook Pro</td>\n",
              "      <td>LabelEncoder()</td>\n",
              "      <td>LabelEncoder()</td>\n",
              "      <td>Intel Core i5</td>\n",
              "      <td>LabelEncoder()</td>\n",
              "      <td>Intel Iris Plus Graphics 640</td>\n",
              "      <td>LabelEncoder()</td>\n",
              "      <td>LabelEncoder()</td>\n",
              "      <td>1.37</td>\n",
              "      <td>...</td>\n",
              "      <td>2.3</td>\n",
              "      <td>128.0</td>\n",
              "      <td>LabelEncoder()</td>\n",
              "      <td>0.0</td>\n",
              "      <td>LabelEncoder()</td>\n",
              "      <td>LabelEncoder()</td>\n",
              "      <td>LabelEncoder()</td>\n",
              "      <td>3</td>\n",
              "      <td>2</td>\n",
              "      <td>3</td>\n",
              "    </tr>\n",
              "    <tr>\n",
              "      <th>1</th>\n",
              "      <td>LabelEncoder()</td>\n",
              "      <td>Macbook Air</td>\n",
              "      <td>LabelEncoder()</td>\n",
              "      <td>LabelEncoder()</td>\n",
              "      <td>Intel Core i5</td>\n",
              "      <td>LabelEncoder()</td>\n",
              "      <td>Intel HD Graphics 6000</td>\n",
              "      <td>LabelEncoder()</td>\n",
              "      <td>LabelEncoder()</td>\n",
              "      <td>1.34</td>\n",
              "      <td>...</td>\n",
              "      <td>1.8</td>\n",
              "      <td>128.0</td>\n",
              "      <td>LabelEncoder()</td>\n",
              "      <td>0.0</td>\n",
              "      <td>LabelEncoder()</td>\n",
              "      <td>LabelEncoder()</td>\n",
              "      <td>LabelEncoder()</td>\n",
              "      <td>3</td>\n",
              "      <td>4</td>\n",
              "      <td>4</td>\n",
              "    </tr>\n",
              "    <tr>\n",
              "      <th>2</th>\n",
              "      <td>LabelEncoder()</td>\n",
              "      <td>250 G6</td>\n",
              "      <td>LabelEncoder()</td>\n",
              "      <td>LabelEncoder()</td>\n",
              "      <td>Intel Core i5 7200U</td>\n",
              "      <td>LabelEncoder()</td>\n",
              "      <td>Intel HD Graphics 620</td>\n",
              "      <td>LabelEncoder()</td>\n",
              "      <td>LabelEncoder()</td>\n",
              "      <td>1.86</td>\n",
              "      <td>...</td>\n",
              "      <td>2.5</td>\n",
              "      <td>256.0</td>\n",
              "      <td>LabelEncoder()</td>\n",
              "      <td>0.0</td>\n",
              "      <td>LabelEncoder()</td>\n",
              "      <td>LabelEncoder()</td>\n",
              "      <td>LabelEncoder()</td>\n",
              "      <td>4</td>\n",
              "      <td>4</td>\n",
              "      <td>4</td>\n",
              "    </tr>\n",
              "    <tr>\n",
              "      <th>3</th>\n",
              "      <td>LabelEncoder()</td>\n",
              "      <td>MacBook Pro</td>\n",
              "      <td>LabelEncoder()</td>\n",
              "      <td>LabelEncoder()</td>\n",
              "      <td>Intel Core i7</td>\n",
              "      <td>LabelEncoder()</td>\n",
              "      <td>AMD Radeon Pro 455</td>\n",
              "      <td>LabelEncoder()</td>\n",
              "      <td>LabelEncoder()</td>\n",
              "      <td>1.83</td>\n",
              "      <td>...</td>\n",
              "      <td>2.7</td>\n",
              "      <td>512.0</td>\n",
              "      <td>LabelEncoder()</td>\n",
              "      <td>0.0</td>\n",
              "      <td>LabelEncoder()</td>\n",
              "      <td>LabelEncoder()</td>\n",
              "      <td>LabelEncoder()</td>\n",
              "      <td>1</td>\n",
              "      <td>1</td>\n",
              "      <td>1</td>\n",
              "    </tr>\n",
              "    <tr>\n",
              "      <th>4</th>\n",
              "      <td>LabelEncoder()</td>\n",
              "      <td>MacBook Pro</td>\n",
              "      <td>LabelEncoder()</td>\n",
              "      <td>LabelEncoder()</td>\n",
              "      <td>Intel Core i5</td>\n",
              "      <td>LabelEncoder()</td>\n",
              "      <td>Intel Iris Plus Graphics 650</td>\n",
              "      <td>LabelEncoder()</td>\n",
              "      <td>LabelEncoder()</td>\n",
              "      <td>1.37</td>\n",
              "      <td>...</td>\n",
              "      <td>3.1</td>\n",
              "      <td>256.0</td>\n",
              "      <td>LabelEncoder()</td>\n",
              "      <td>0.0</td>\n",
              "      <td>LabelEncoder()</td>\n",
              "      <td>LabelEncoder()</td>\n",
              "      <td>LabelEncoder()</td>\n",
              "      <td>3</td>\n",
              "      <td>2</td>\n",
              "      <td>3</td>\n",
              "    </tr>\n",
              "  </tbody>\n",
              "</table>\n",
              "<p>5 rows × 24 columns</p>\n",
              "</div>\n",
              "      <button class=\"colab-df-convert\" onclick=\"convertToInteractive('df-047a9ba9-a97d-43c4-a14d-837c88e259d9')\"\n",
              "              title=\"Convert this dataframe to an interactive table.\"\n",
              "              style=\"display:none;\">\n",
              "        \n",
              "  <svg xmlns=\"http://www.w3.org/2000/svg\" height=\"24px\"viewBox=\"0 0 24 24\"\n",
              "       width=\"24px\">\n",
              "    <path d=\"M0 0h24v24H0V0z\" fill=\"none\"/>\n",
              "    <path d=\"M18.56 5.44l.94 2.06.94-2.06 2.06-.94-2.06-.94-.94-2.06-.94 2.06-2.06.94zm-11 1L8.5 8.5l.94-2.06 2.06-.94-2.06-.94L8.5 2.5l-.94 2.06-2.06.94zm10 10l.94 2.06.94-2.06 2.06-.94-2.06-.94-.94-2.06-.94 2.06-2.06.94z\"/><path d=\"M17.41 7.96l-1.37-1.37c-.4-.4-.92-.59-1.43-.59-.52 0-1.04.2-1.43.59L10.3 9.45l-7.72 7.72c-.78.78-.78 2.05 0 2.83L4 21.41c.39.39.9.59 1.41.59.51 0 1.02-.2 1.41-.59l7.78-7.78 2.81-2.81c.8-.78.8-2.07 0-2.86zM5.41 20L4 18.59l7.72-7.72 1.47 1.35L5.41 20z\"/>\n",
              "  </svg>\n",
              "      </button>\n",
              "      \n",
              "  <style>\n",
              "    .colab-df-container {\n",
              "      display:flex;\n",
              "      flex-wrap:wrap;\n",
              "      gap: 12px;\n",
              "    }\n",
              "\n",
              "    .colab-df-convert {\n",
              "      background-color: #E8F0FE;\n",
              "      border: none;\n",
              "      border-radius: 50%;\n",
              "      cursor: pointer;\n",
              "      display: none;\n",
              "      fill: #1967D2;\n",
              "      height: 32px;\n",
              "      padding: 0 0 0 0;\n",
              "      width: 32px;\n",
              "    }\n",
              "\n",
              "    .colab-df-convert:hover {\n",
              "      background-color: #E2EBFA;\n",
              "      box-shadow: 0px 1px 2px rgba(60, 64, 67, 0.3), 0px 1px 3px 1px rgba(60, 64, 67, 0.15);\n",
              "      fill: #174EA6;\n",
              "    }\n",
              "\n",
              "    [theme=dark] .colab-df-convert {\n",
              "      background-color: #3B4455;\n",
              "      fill: #D2E3FC;\n",
              "    }\n",
              "\n",
              "    [theme=dark] .colab-df-convert:hover {\n",
              "      background-color: #434B5C;\n",
              "      box-shadow: 0px 1px 3px 1px rgba(0, 0, 0, 0.15);\n",
              "      filter: drop-shadow(0px 1px 2px rgba(0, 0, 0, 0.3));\n",
              "      fill: #FFFFFF;\n",
              "    }\n",
              "  </style>\n",
              "\n",
              "      <script>\n",
              "        const buttonEl =\n",
              "          document.querySelector('#df-047a9ba9-a97d-43c4-a14d-837c88e259d9 button.colab-df-convert');\n",
              "        buttonEl.style.display =\n",
              "          google.colab.kernel.accessAllowed ? 'block' : 'none';\n",
              "\n",
              "        async function convertToInteractive(key) {\n",
              "          const element = document.querySelector('#df-047a9ba9-a97d-43c4-a14d-837c88e259d9');\n",
              "          const dataTable =\n",
              "            await google.colab.kernel.invokeFunction('convertToInteractive',\n",
              "                                                     [key], {});\n",
              "          if (!dataTable) return;\n",
              "\n",
              "          const docLinkHtml = 'Like what you see? Visit the ' +\n",
              "            '<a target=\"_blank\" href=https://colab.research.google.com/notebooks/data_table.ipynb>data table notebook</a>'\n",
              "            + ' to learn more about interactive tables.';\n",
              "          element.innerHTML = '';\n",
              "          dataTable['output_type'] = 'display_data';\n",
              "          await google.colab.output.renderOutput(dataTable, element);\n",
              "          const docLink = document.createElement('div');\n",
              "          docLink.innerHTML = docLinkHtml;\n",
              "          element.appendChild(docLink);\n",
              "        }\n",
              "      </script>\n",
              "    </div>\n",
              "  </div>\n",
              "  "
            ]
          },
          "metadata": {},
          "execution_count": 227
        }
      ]
    },
    {
      "cell_type": "code",
      "source": [],
      "metadata": {
        "id": "IS__H_iAdX7F"
      },
      "execution_count": null,
      "outputs": []
    },
    {
      "cell_type": "code",
      "source": [],
      "metadata": {
        "id": "RT-_L9MFc0Vv"
      },
      "execution_count": null,
      "outputs": []
    },
    {
      "cell_type": "code",
      "source": [],
      "metadata": {
        "id": "beANf00mc0Y2"
      },
      "execution_count": null,
      "outputs": []
    },
    {
      "cell_type": "code",
      "source": [],
      "metadata": {
        "id": "QuzaBTZLgN6J"
      },
      "execution_count": null,
      "outputs": []
    },
    {
      "cell_type": "code",
      "source": [],
      "metadata": {
        "id": "X2x65dlJgNqV"
      },
      "execution_count": null,
      "outputs": []
    },
    {
      "cell_type": "code",
      "source": [],
      "metadata": {
        "id": "-pORdnscgNi4"
      },
      "execution_count": null,
      "outputs": []
    },
    {
      "cell_type": "code",
      "source": [],
      "metadata": {
        "id": "9p5ZadhKgNcD"
      },
      "execution_count": null,
      "outputs": []
    },
    {
      "cell_type": "code",
      "source": [],
      "metadata": {
        "id": "6DhFtPppgNXL"
      },
      "execution_count": null,
      "outputs": []
    },
    {
      "cell_type": "code",
      "source": [],
      "metadata": {
        "id": "DCymZnqrgNN9"
      },
      "execution_count": null,
      "outputs": []
    },
    {
      "cell_type": "code",
      "source": [],
      "metadata": {
        "id": "SWglftFGc0eY"
      },
      "execution_count": null,
      "outputs": []
    },
    {
      "cell_type": "code",
      "source": [],
      "metadata": {
        "id": "blJB--48ZmPt"
      },
      "execution_count": null,
      "outputs": []
    },
    {
      "cell_type": "code",
      "source": [],
      "metadata": {
        "id": "YDlBR2tKUmow"
      },
      "execution_count": null,
      "outputs": []
    }
  ]
}